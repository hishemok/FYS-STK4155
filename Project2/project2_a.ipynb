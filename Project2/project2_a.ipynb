{
 "cells": [
  {
   "cell_type": "markdown",
   "id": "93d1eb5f-39ec-47ef-bb5b-00cd65986408",
   "metadata": {},
   "source": [
    "# Project 2 a)"
   ]
  },
  {
   "cell_type": "code",
   "execution_count": 51,
   "id": "6173aa7b-81c0-46bb-bc71-8bd71e6f0c26",
   "metadata": {},
   "outputs": [],
   "source": [
    "import autograd.numpy as np\n",
    "from autograd import grad\n",
    "import matplotlib.pyplot as plt "
   ]
  },
  {
   "cell_type": "markdown",
   "id": "c229160e-e1f7-41ff-a07f-758632165020",
   "metadata": {},
   "source": [
    "## project 1 things -- not used so far"
   ]
  },
  {
   "cell_type": "code",
   "execution_count": 52,
   "id": "87097aec-d302-4b3f-a008-07651ea92e64",
   "metadata": {},
   "outputs": [],
   "source": [
    "# from project1 for ols\n",
    "\n",
    "import scipy.special # for binomial coefficient\n",
    "from sklearn.linear_model import LinearRegression , Ridge\n",
    "from sklearn.metrics import mean_squared_error, r2_score\n",
    "from sklearn.model_selection import train_test_split\n",
    "\n",
    "# not necc\n",
    "import pandas as pd"
   ]
  },
  {
   "cell_type": "code",
   "execution_count": 53,
   "id": "ad9f27ad-6bdb-4fa5-9bdc-e1fddf94fb4f",
   "metadata": {},
   "outputs": [],
   "source": [
    "''' generate design matrix without intercept column for flattend x1, x2 '''\n",
    "def design_no_in(x1f, x2f, degreeplus1):\n",
    "    n = x1m.size\n",
    "    # 1. setting up design matrix\n",
    "    # we work here with intercept column\n",
    "    # the designmatrix s.t. we have the features 1, x1, x2, x1x2, x1^2, x2^2, ....\n",
    "    # with max totaldegree 5\n",
    "    # number of possible monoms up to degree 5 for 2 variables is 2+5 choose 5\n",
    "    num_of_monoms = scipy.special.binom(degreeplus1 + 1, degreeplus1 -1)\n",
    "    X = np.zeros((n, int(num_of_monoms))) # afterwards the intercept column is removed\n",
    "    c = 0\n",
    "    for i in range(degreeplus1):\n",
    "        for j in range(degreeplus1 - i):\n",
    "            X[:,c] = x1f**i * x2f**j\n",
    "            #print('{} {}'.format(i,j))\n",
    "            #print(X[:,c])\n",
    "            #print('x_1^{} * x_2^{}'.format(i,j)) \n",
    "            c += 1\n",
    "    # remove now intercept column\n",
    "    X = X[:,1:]\n",
    "    return X\n",
    "\n",
    "# for OLS k-fold\n",
    "def design_with_in(x1f, x2f, degreeplus1):\n",
    "    n = x1f.size\n",
    "    num_of_monoms = scipy.special.binom(degreeplus1 + 1, degreeplus1 -1)\n",
    "    X = np.zeros((n, int(num_of_monoms)))\n",
    "    c = 0\n",
    "    for i in range(degreeplus1):\n",
    "        for j in range(degreeplus1 - i):\n",
    "            X[:,c] = x1f**i * x2f**j\n",
    "            #print('{} {}'.format(i,j))\n",
    "            #print(X[:,c])\n",
    "            #print('x_1^{} * x_2^{}'.format(i,j)) \n",
    "            c += 1\n",
    "    return X\n",
    "\n",
    "'''\n",
    "generate data for meshgrid (x1m, x2m) and according y. degree is the maximum degree of the\n",
    "polynomial represented by the designmatrix\n",
    "'''\n",
    "def data(degree, x1m, x2m, y):\n",
    "    degreeplus1 = degree + 1\n",
    "\n",
    "    x1m_flat = x1m.flatten()\n",
    "    x2m_flat = x2m.flatten()\n",
    "    \n",
    "    X = design_no_in(x1m_flat, x2m_flat, degreeplus1)\n",
    "    \n",
    "    # 2. split the data in test and training data\n",
    "    X_train, X_test, y_train, y_test = train_test_split(X, y.flatten())\n",
    " \n",
    "    # 3. scaling of training data (by subtracting the mean value of each column)\n",
    "    X_train_mean = np.mean(X_train, axis=0)\n",
    "    X_train_scaled = X_train  - X_train_mean\n",
    "\n",
    "    y_train_mean = np.mean(y_train)\n",
    "    y_train_scaled = y_train - y_train_mean\n",
    "\n",
    "    # in order to use beta for test → test has to be scaled by training means\n",
    "    X_test_scaled = X_test - X_train_mean\n",
    "    #X_test_scaled = X_test - X_train_mean\n",
    "    y_test_scaled = y_test - y_train_mean\n",
    "\n",
    "    return X, X_train, X_test, X_train_scaled, X_train_mean, X_test_scaled, y_train_scaled, y_train_mean, y_train, y_test\n",
    "\n",
    "\n",
    "def OLS_analysis(maxdegree):\n",
    "    degrees = np.arange(1,maxdegree + 1)\n",
    "    num_monoms = int(scipy.special.binom(maxdegree + 2, maxdegree))\n",
    "\n",
    "    betas = np.zeros((maxdegree, num_monoms)) # for maxdegree = 5: 7 choose 5 is the number of possible monoms up to degree 5 for 2 variables (not -1 because the intercept will be added)\n",
    "    MSE = np.zeros((maxdegree,2)) # 0.column for train, 1. for test\n",
    "    R2 = np.zeros((maxdegree,2))\n",
    "    for degree in degrees:\n",
    "        print('DEGREE = ' + str(degree))\n",
    "        X, X_train, X_test, X_train_scaled, X_train_mean, X_test_scaled, y_train_scaled, y_train_mean, y_train, y_test = data(degree, x1m, x2m, y)\n",
    "        \n",
    "        beta_lin = np.linalg.inv(X_train_scaled.T @ X_train_scaled) @ X_train_scaled.T @ y_train_scaled # without intercept\n",
    "        intercept = y_train_mean - X_train_mean @ beta_lin\n",
    "        betas[degree-1] = np.hstack([intercept, beta_lin, np.zeros(( num_monoms -1 - beta_lin.size,))])\n",
    "    \n",
    "        #print('beta = {}'.format(betas[degree-1]))\n",
    "        \n",
    "        ypredict_train_LR =  X_train_scaled @ beta_lin + y_train_mean\n",
    "        ypredict_test_LR = X_test_scaled @ beta_lin + y_train_mean\n",
    "        ypredict_all_LR = X @ beta_lin + y_train_mean\n",
    "        \n",
    "        \n",
    "    \n",
    "        MSE[degree-1, 0] = mean_squared_error(y_train, ypredict_train_LR)\n",
    "        MSE[degree-1, 1] = mean_squared_error(y_test, ypredict_test_LR)\n",
    "        R2[degree-1, 0] = r2_score(y_train, ypredict_train_LR)\n",
    "        R2[degree-1, 1] = r2_score(y_test, ypredict_test_LR)\n",
    "\n",
    "        '''\n",
    "\n",
    "        print(\"Mean squared error for train: {}\".format(mean_squared_error(y_train, ypredict_train_LR)))\n",
    "        print('R^2 score for train:          {}'.format(r2_score(y_train, ypredict_train_LR)))\n",
    "        print(\"Mean squared error for test:  {}\".format(mean_squared_error(y_test, ypredict_test_LR)))\n",
    "        print('R^2 score for test:           {}'.format(r2_score(y_test, ypredict_test_LR)))\n",
    "            \n",
    "        print('summary statistics for train prediction LR')\n",
    "        print(pd.DataFrame(ypredict_train_LR).describe())\n",
    "        print('summary statistics for test prediction LR')\n",
    "        print(pd.DataFrame(ypredict_test_LR).describe())\n",
    "        '''\n",
    "\n",
    "    return MSE, R2, betas, degrees"
   ]
  },
  {
   "cell_type": "code",
   "execution_count": 54,
   "id": "44fad4b3-3c92-4e82-ac18-7af7147fbcbe",
   "metadata": {},
   "outputs": [
    {
     "ename": "NameError",
     "evalue": "name 'maxdegree' is not defined",
     "output_type": "error",
     "traceback": [
      "\u001b[0;31m---------------------------------------------------------------------------\u001b[0m",
      "\u001b[0;31mNameError\u001b[0m                                 Traceback (most recent call last)",
      "Cell \u001b[0;32mIn[54], line 56\u001b[0m\n\u001b[1;32m     49\u001b[0m         R2[degree\u001b[38;5;241m-\u001b[39m\u001b[38;5;241m1\u001b[39m, \u001b[38;5;241m1\u001b[39m] \u001b[38;5;241m=\u001b[39m r2_score(y_test, ypredict_test_RR)\n\u001b[1;32m     52\u001b[0m     \u001b[38;5;28;01mreturn\u001b[39;00m betas, MSE, R2\n\u001b[0;32m---> 56\u001b[0m betas_lam \u001b[38;5;241m=\u001b[39m np\u001b[38;5;241m.\u001b[39mzeros((\u001b[38;5;241m5\u001b[39m, \u001b[38;5;28mint\u001b[39m(scipy\u001b[38;5;241m.\u001b[39mspecial\u001b[38;5;241m.\u001b[39mbinom(\u001b[43mmaxdegree\u001b[49m \u001b[38;5;241m+\u001b[39m \u001b[38;5;241m2\u001b[39m, maxdegree)), num_lambdas))\n\u001b[1;32m     57\u001b[0m MSE_lam \u001b[38;5;241m=\u001b[39m np\u001b[38;5;241m.\u001b[39mzeros((\u001b[38;5;241m5\u001b[39m,\u001b[38;5;241m2\u001b[39m, num_lambdas))\n\u001b[1;32m     58\u001b[0m R2_lam \u001b[38;5;241m=\u001b[39m np\u001b[38;5;241m.\u001b[39mzeros((\u001b[38;5;241m5\u001b[39m,\u001b[38;5;241m2\u001b[39m, num_lambdas))\n",
      "\u001b[0;31mNameError\u001b[0m: name 'maxdegree' is not defined"
     ]
    }
   ],
   "source": [
    "def Ridge_analysis(lambd):\n",
    "\n",
    "    num_monoms = int(scipy.special.binom(maxdegree + 2, maxdegree))\n",
    "    betas = np.zeros((5, num_monoms)) # for maxdegree = 5: 7 choose 5 is the number of possible monoms up to degree 5 for 2 variables\n",
    "    MSE = np.zeros((5,2)) # 0.column for train, 1. for test\n",
    "    R2 = np.zeros((5,2))\n",
    "    \n",
    "    degrees = np.arange(1,maxdegree + 1)\n",
    "    for degree in degrees:\n",
    "        #print('DEGREE = ' + str(degree))\n",
    "        X, X_train, X_test, X_train_scaled, X_train_mean, X_test_scaled, y_train_scaled, y_train_mean, y_train, y_test = data(degree, x1m, x2m, y)\n",
    "        \n",
    "        # RIDGE REGRESSION:\n",
    "        beta_rr = np.linalg.inv(X_train_scaled.T @ X_train_scaled + lambd*np.identity(X_train_scaled.shape[1])) @ X_train_scaled.T @ y_train_scaled #without intercept\n",
    "        intercept = y_train_mean - X_train_mean @ beta_rr\n",
    "        betas[degree-1] = np.hstack([intercept,  beta_rr, np.zeros(( num_monoms  - 1 - beta_rr.size,))])\n",
    "                \n",
    "        #print('beta = {}'.format(beta_rr))\n",
    "        \n",
    "        ypredict_train_RR =  X_train_scaled @ beta_rr + y_train_mean\n",
    "        ypredict_test_RR = X_test_scaled @ beta_rr + y_train_mean\n",
    "        ypredict_all_RR = X @ beta_rr + y_train_mean\n",
    "\n",
    "        ''' for sake of understanding the functions of sklearn\n",
    "        # prediction using sklearn\n",
    "        RegRidge = Ridge(lambd)\n",
    "        RegRidge.fit(X_train,y_train)\n",
    "        ypredictRidge = RegRidge.predict(X_test)\n",
    "        print('difference of y_pred: true - sklearn, not scaled data (but also no intercept column): {}'.format(ypredict_test_RR - ypredictRidge))\n",
    "\n",
    "        ridge2 = Ridge(lambd, fit_intercept=False)\n",
    "        ridge2.fit(X_train_scaled,y_train_scaled)\n",
    "        y_pred2 = ridge2.predict(X_test_scaled) + y_train_mean\n",
    "        print('difference of y_pred: true - sklearn, scaled data (and also no intercept column): {}'.format(ypredict_test_RR - y_pred2))\n",
    "        print('difference of differences = {}'.format(ypredictRidge - y_pred2))\n",
    "        ''' \n",
    "\n",
    "    \n",
    "        '''\n",
    "        print(\"Mean squared error for train: {}\".format(mean_squared_error(y_train, ypredict_train_RR)))\n",
    "        print('R^2 score for train:          {}'.format(r2_score(y_train, ypredict_train_RR)))\n",
    "        print(\"Mean squared error for test:  {}\".format(mean_squared_error(y_test, ypredict_test_RR)))\n",
    "        print('R^2 score for test:           {}'.format(r2_score(y_test, ypredict_test_RR)))\n",
    "        '''\n",
    "        \n",
    "        MSE[degree-1, 0] = mean_squared_error(y_train, ypredict_train_RR)\n",
    "        MSE[degree-1, 1] = mean_squared_error(y_test, ypredict_test_RR)\n",
    "        R2[degree-1, 0] = r2_score(y_train, ypredict_train_RR)\n",
    "        R2[degree-1, 1] = r2_score(y_test, ypredict_test_RR)\n",
    "\n",
    "\n",
    "    return betas, MSE, R2\n",
    "\n",
    "\n",
    "\n",
    "betas_lam = np.zeros((5, int(scipy.special.binom(maxdegree + 2, maxdegree)), num_lambdas))\n",
    "MSE_lam = np.zeros((5,2, num_lambdas))\n",
    "R2_lam = np.zeros((5,2, num_lambdas))"
   ]
  },
  {
   "cell_type": "code",
   "execution_count": null,
   "id": "a84d7176-462b-47b5-ad46-c5d47f45d158",
   "metadata": {},
   "outputs": [],
   "source": []
  },
  {
   "cell_type": "markdown",
   "id": "ee81c975-96d4-46ff-b14a-e27b8e2e9b7f",
   "metadata": {},
   "source": [
    "## week 41 - exercise functions"
   ]
  },
  {
   "cell_type": "markdown",
   "id": "4485efcd-e093-4edc-b471-f5130ce2b02e",
   "metadata": {},
   "source": [
    "I consider the function $f(x) = 1 - 2x + 1/3x^2$."
   ]
  },
  {
   "cell_type": "code",
   "execution_count": 55,
   "id": "baa29fc0-5584-46cc-a0e3-6dbefd98aa44",
   "metadata": {},
   "outputs": [],
   "source": [
    "np.random.seed(1)\n",
    "n = 100\n",
    "# Make data set.\n",
    "x = np.linspace(-1,6, n).reshape(-1, 1)\n",
    "y = 1 - 2*x +1/3*x**2\n",
    "\n",
    "X = np.c_[np.ones((n,1)),x, x**2]\n",
    "#yr = 1 - 2*x +1/3*x**2 + (np.random.rand(n,1) - 0.5)"
   ]
  },
  {
   "cell_type": "code",
   "execution_count": 56,
   "id": "ba98da41-f45a-40c2-9c68-2036fcbbe477",
   "metadata": {},
   "outputs": [
    {
     "data": {
      "text/plain": [
       "<function matplotlib.pyplot.show(close=None, block=None)>"
      ]
     },
     "execution_count": 56,
     "metadata": {},
     "output_type": "execute_result"
    },
    {
     "data": {
      "image/png": "[encoded data removed]",
      "text/plain": [
       "<Figure size 640x480 with 1 Axes>"
      ]
     },
     "metadata": {},
     "output_type": "display_data"
    }
   ],
   "source": [
    "plt.plot(x,y)\n",
    "#plt.plot(x,yr,'o')\n",
    "plt.xlabel(r'$x$')\n",
    "plt.ylabel(r'$y$')\n",
    "plt.show"
   ]
  },
  {
   "cell_type": "markdown",
   "id": "3baacd2f-eb75-4e3b-b13b-1575b7c0e44e",
   "metadata": {},
   "source": [
    "### Gradient descent / steepest descent\n",
    "First we consider OLS regression, and thus the function that we want to minimize is $$C(\\beta) = 1/n \\| X\\beta - y \\|^2_2 = 1/n (X\\beta - y)^\\top (X\\beta - y) = 1/n \\beta^\\top X^\\top X \\beta - 2/n \\beta^\\top X^\\top y + 1/n y^\\top y$$\n",
    "So we know that the gradient w.r.t $\\beta$ is $$\\nabla C(\\beta) = 2/n X^\\top (X\\beta - y)$$\n",
    "Since the second derivative is $2/n X^\\top X$, which is positive semidefinite, we know that $C(\\beta)$ is convex."
   ]
  },
  {
   "cell_type": "code",
   "execution_count": 57,
   "id": "1cddd29d-9f07-4d0e-b258-993e7e55c110",
   "metadata": {},
   "outputs": [],
   "source": [
    "def gradient_C_MSE(X,y,beta, method='OLS', lamb=0):\n",
    "    n = y.size\n",
    "    if method == 'OLS':\n",
    "        return 2.0/n * X.T @(X@ beta -y)\n",
    "    if method == 'RIDGE':\n",
    "        return 2.0/n * X.T @(X@ beta -y) + 2.0* lamb*beta\n",
    "    \n",
    "    \n",
    "\n",
    "''' simple gradient descent'''\n",
    "''' if gamma = 0 → the optimum \n",
    "    gamma by hessian is chosen, else the gamma value'''\n",
    "def gd_gamma(X,y,f_gradient, niter=1000, gamma=0, method='OLS', lamb=0):\n",
    "    if method not in ['OLS', 'RIDGE']:\n",
    "        raise ValueError('no valid method chosen.')\n",
    "        \n",
    "    deg = X.shape[1]\n",
    "    xk = np.random.randn(deg,1) # starting point for beta\n",
    "\n",
    "    if not gamma:\n",
    "        # considering optimum stepsize wrt deeplearning\n",
    "        if method == 'OLS':\n",
    "            H = (2.0/n)* X.T @ X\n",
    "        if method =='RIDGE':\n",
    "            H = (2.0/n)* X.T @ X + 2.0*lamb\n",
    "\n",
    "        # Get the eigenvalues\n",
    "        EigValues, EigVectors = np.linalg.eig(H)\n",
    "        gamma = 1.0/np.max(EigValues) # optimum stepssize wrt to deeplearningbook.org page 86\n",
    "    \n",
    "    for iter in range(niter):\n",
    "        xk -= gamma*f_gradient(X,y,xk, method, lamb)\n",
    "    beta_GD = xk\n",
    "    return beta_GD\n",
    "\n"
   ]
  },
  {
   "cell_type": "markdown",
   "id": "356bad7f-53f4-4067-82b0-a46fadbb088d",
   "metadata": {},
   "source": [
    "### plain GD with momentum"
   ]
  },
  {
   "cell_type": "code",
   "execution_count": 58,
   "id": "14a58ba4-83b0-4f42-ba3c-b4166730f174",
   "metadata": {},
   "outputs": [],
   "source": [
    "def gd_momentum(X,y,f_grad, method='OLS', lamb=0, Niter=1000, gamma=0, moment=0.3):\n",
    "    if method not in ['OLS', 'RIDGE']:\n",
    "        raise ValueError('no valid method chosen.')\n",
    "\n",
    "    deg = X.shape[1]\n",
    "    xk = np.random.randn(deg,1) # starting point for beta\n",
    "    \n",
    "    if not gamma:\n",
    "        # considering optimum stepsize wrt deeplearning\n",
    "        if method == 'OLS':\n",
    "            H = (2.0/n)* X.T @ X\n",
    "        if method =='RIDGE':\n",
    "            H = (2.0/n)* X.T @ X + 2.0*lamb\n",
    "\n",
    "        # Get the eigenvalues\n",
    "        EigValues, EigVectors = np.linalg.eig(H)\n",
    "        gamma = 1.0/np.max(EigValues) # optimum stepssize wrt to deeplearningbook.org page 86\n",
    "\n",
    "    \n",
    "    change=0.0\n",
    "    \n",
    "    for iter in range(Niter):\n",
    "        change = gamma*f_gradient(X,y,xk, method, lamb) + moment*change\n",
    "        xk -= change\n",
    "    beta_GD = xk\n",
    "    return beta_GD"
   ]
  },
  {
   "cell_type": "markdown",
   "id": "dff9a1fd-4307-43d7-9d23-8e0a2b3002fa",
   "metadata": {},
   "source": [
    "### stochastic GD with time decay scaling (or gama)"
   ]
  },
  {
   "cell_type": "code",
   "execution_count": 88,
   "id": "fbe98713-8b8d-486e-b926-5aa1d013f9f7",
   "metadata": {},
   "outputs": [],
   "source": [
    "''' OLD which  I GUESS is incorrect, but somehow worked in lectures with this ''' \n",
    "def sum_c_i(X_sub, beta, y_sub,n, method='OLS', lamb=0): # Xsub is a X from which rows are deleted, same for y_sub\n",
    "    if method == 'OLS':\n",
    "        return X_sub.T @ ((X_sub @ beta) - y_sub) *2/n\n",
    "    if method == 'RIDGE':\n",
    "        return X_sub.T @ ((X_sub @ beta) - y_sub) *2/n  + 2*lamb*y_sub.size/n\n",
    "\n",
    "\n",
    "''' What I think would be more correct \n",
    "# Assuming that we do not minimize MSE but RSS for OLS and RSS+ lambbeta^Tbeta\n",
    "def sum_c_i(X_sub, beta, y_sub,n, method='OLS', lamb=0): # Xsub is a X from which rows are deleted, same for y_sub\n",
    "    if method == 'OLS':\n",
    "        return X_sub.T @ ((X_sub @ beta) - y_sub) *2\n",
    "    if method == 'RIDGE':\n",
    "        return X_sub.T @ ((X_sub @ beta) - y_sub) *2  + 2*lamb\n",
    "\n",
    "    #TODO IWIE MACHEN ALLE DIESES AVERAGINING MIT 1/M ABER KA WIESO\n",
    "'''\n",
    "def gamma_timedecay(t,t0,t1):\n",
    "    if t0 <= 0 or t1 <= 0:\n",
    "        raise ValueError(\"t0 or t1 <= 0\")\n",
    "    return t0/(t+t1)\n"
   ]
  },
  {
   "cell_type": "code",
   "execution_count": 60,
   "id": "76401e4b-5b0e-4f74-9721-017935fdc106",
   "metadata": {},
   "outputs": [],
   "source": [
    "def sgd(X,y,sum_c_i, method='OLS',lamb=0, n_epochs=50, M=5, t0=1,t1=10, gam = 0):\n",
    "    if method not in ['OLS', 'RIDGE']:\n",
    "        raise ValueError('no valid method chosen.')\n",
    "    n = y.size\n",
    "    if M > n:\n",
    "        raise ValueError(\"can't take Minimbatch of size %i from sest of size %i\" %(M,n))\n",
    "    deg = X.shape[1]\n",
    "    xk = np.random.randn(deg,1) # starting point for beta\n",
    "\n",
    "\n",
    "    m = int(y.size/M) #number of minibatches\n",
    "\n",
    "    for e in range(n_epochs):\n",
    "        shuff = np.random.choice(X.shape[0], X.shape[0], False)\n",
    "        X_shuff = X[shuff]\n",
    "        y_shuff = y[shuff]\n",
    "        for i in range(m):\n",
    "            random_index = M*np.random.randint(m) \n",
    "            Xi = X_shuff[random_index:random_index+M]\n",
    "            yi = y_shuff[random_index:random_index+M]\n",
    "            gradient = sum_c_i(Xi, xk, yi,n, method, lamb) # 1/M\n",
    "            if gam:\n",
    "                gamma = gam\n",
    "\n",
    "            else: \n",
    "                gamma = gamma_timedecay(e*m + i,t0,t1)\n",
    "            xk = xk - gamma*gradient\n",
    "    return xk"
   ]
  },
  {
   "cell_type": "markdown",
   "id": "8a3f1b79-2189-493f-86a0-928123724226",
   "metadata": {},
   "source": [
    "### stochastic gd + time decay scaling (or gamma) + momentum"
   ]
  },
  {
   "cell_type": "code",
   "execution_count": 61,
   "id": "dbb0295b-4867-4bbe-b454-42cfc79b2803",
   "metadata": {},
   "outputs": [],
   "source": [
    "# note by setting momentum = 0, we have the old sgd\n",
    "def sgd_momentum(X,y,sum_c_i, method='OLS', lamb=0, n_epochs=50, M=5, t0=1,t1=10, gam=0, momentum = 0.9):\n",
    "    if method not in ['OLS', 'RIDGE']:\n",
    "        raise ValueError('no valid method chosen.')\n",
    "    n = y.size\n",
    "    if M > n:\n",
    "        raise ValueError(\"can't take Minimbatch of size %i from sest of size %i\" %(M,n))\n",
    "    deg = X.shape[1]\n",
    "    xk = np.random.randn(deg,1) # starting point for beta\n",
    "\n",
    "    if not gam:\n",
    "        gamma_f = gamma_timedecay\n",
    "    else:\n",
    "        gamma_f = lambda x, y, z: gam\n",
    "\n",
    "    m = int(y.size/M) #number of minibatches\n",
    "    change = 0\n",
    "    for e in range(n_epochs):\n",
    "        shuff = np.random.choice(X.shape[0], X.shape[0], False)\n",
    "        X_shuff = X[shuff]\n",
    "        y_shuff = y[shuff]\n",
    "\n",
    "        for i in range(m):\n",
    "            random_index = M*np.random.randint(m) \n",
    "            Xi = X_shuff[random_index:random_index+M]\n",
    "            yi = y_shuff[random_index:random_index+M]\n",
    "            gradient =  sum_c_i(Xi, xk, yi,n, method, lamb)\n",
    "\n",
    "            gamma = gamma_f(e*m + i,t0,t1)\n",
    "            change = gamma*gradient + change*momentum\n",
    "            xk = xk - change\n",
    "\n",
    "    return xk"
   ]
  },
  {
   "cell_type": "code",
   "execution_count": null,
   "id": "6b39349f-df0e-4726-8f2d-a56ee9e112e8",
   "metadata": {},
   "outputs": [],
   "source": []
  },
  {
   "cell_type": "markdown",
   "id": "4d480ad7-d888-4f85-ab4f-1839680b6d4a",
   "metadata": {},
   "source": [
    "### adagrad with stochastic gd with & without momentum"
   ]
  },
  {
   "cell_type": "code",
   "execution_count": 62,
   "id": "1f3c3ff3-2451-4d07-bca2-175f18ae83dc",
   "metadata": {},
   "outputs": [],
   "source": [
    "def sgd_momentum_adagrad(X,y,sum_c_i, method='OLS', lamb=0, n_epochs=50, M=5, gamma=0.001, momentum = 0.9, delta=1e-8):\n",
    "    if method not in ['OLS', 'RIDGE']:\n",
    "        raise ValueError('no valid method chosen.')\n",
    "    n = y.size\n",
    "    if M > n:\n",
    "        raise ValueError(\"can't take Minibatch of size %i from sest of size %i\" %(M,n))\n",
    "    deg = X.shape[1]\n",
    "    xk = np.random.randn(deg,1) # starting point for beta\n",
    "\n",
    "    m = int(y.size/M) #number of minibatches\n",
    "    change = 0.0\n",
    "    for e in range(n_epochs):\n",
    "        shuff = np.random.choice(X.shape[0], X.shape[0], False)\n",
    "        X_shuff = X[shuff]\n",
    "        y_shuff = y[shuff]\n",
    "\n",
    "        Giter = 0.0\n",
    "        for i in range(m):\n",
    "            random_index = M*np.random.randint(m) \n",
    "            Xi = X_shuff[random_index:random_index+M]\n",
    "            yi = y_shuff[random_index:random_index+M]\n",
    "            gradient =  sum_c_i(Xi, xk, yi,n,method,lamb)\n",
    "            Giter += gradient*gradient\n",
    "            change = gamma*gradient/(delta + np.sqrt(Giter)) + change*momentum\n",
    "            xk = xk - change\n",
    "\n",
    "    return xk"
   ]
  },
  {
   "cell_type": "markdown",
   "id": "25cfe239-9670-4ef5-b59f-6f1b4be8cc7e",
   "metadata": {},
   "source": [
    "### RMS propagation (Stochastic gd)"
   ]
  },
  {
   "cell_type": "code",
   "execution_count": 63,
   "id": "36b716bd-63b7-40ff-bdf4-eac0091987b9",
   "metadata": {},
   "outputs": [],
   "source": [
    "def sgd_rmsprop(X,y,sum_c_i, method='OLS', lamb=0, n_epochs=50, M=5, gamma=0.001, momentum = 0.9, delta=1e-8):\n",
    "    if method not in ['OLS', 'RIDGE']:\n",
    "        raise ValueError('no valid method chosen.')\n",
    "\n",
    "    n = y.size\n",
    "    if M > n:\n",
    "        raise ValueError(\"can't take Minimbatch of size %i from sest of size %i\" %(M,n))\n",
    "    deg = X.shape[1]\n",
    "    xk = np.random.randn(deg,1) # starting point for beta\n",
    "\n",
    "\n",
    "    m = int(y.size/M) #number of minibatches\n",
    "    change = 0.0\n",
    "    for e in range(n_epochs):\n",
    "        shuff = np.random.choice(X.shape[0], X.shape[0], False)\n",
    "        X_shuff = X[shuff]\n",
    "        y_shuff = y[shuff]\n",
    "\n",
    "        for i in range(m):\n",
    "            random_index = M*np.random.randint(m) \n",
    "            Xi = X_shuff[random_index:random_index+M]\n",
    "            yi = y_shuff[random_index:random_index+M]\n",
    "            gradient =  sum_c_i(Xi, xk, yi,n, method, lamb)\n",
    "            Giter = gradient*gradient\n",
    "            change = (1- momentum)*Giter + change*momentum\n",
    "            xk = xk - gamma*gradient/(np.sqrt(change) + delta)\n",
    "\n",
    "    return xk"
   ]
  },
  {
   "cell_type": "markdown",
   "id": "4bf88981-0558-4f53-958e-db3df53f416d",
   "metadata": {},
   "source": [
    "### ADAM stochastic"
   ]
  },
  {
   "cell_type": "code",
   "execution_count": 64,
   "id": "b3a940f1-29bf-4a5a-830f-81e8803fbb68",
   "metadata": {},
   "outputs": [],
   "source": [
    "def sgd_adam(X,y,sum_c_i, method='OLS', lamb=0, n_epochs=50, M=5, gamma=0.001, momentum = 0.9, secmomentum = 0.99, delta=1e-8):\n",
    "    if method not in ['OLS', 'RIDGE']:\n",
    "        raise ValueError('no valid method chosen.')\n",
    "\n",
    "    n = y.size\n",
    "    if M > n:\n",
    "        raise ValueError(\"can't take Minimbatch of size %i from sest of size %i\" %(M,n))\n",
    "    deg = X.shape[1]\n",
    "    xk = np.random.randn(deg,1) # starting point for beta\n",
    "    m = int(y.size/M) #number of minibatches\n",
    "    \n",
    "    \n",
    "    for e in range(n_epochs):\n",
    "        shuff = np.random.choice(X.shape[0], X.shape[0], False)\n",
    "        X_shuff = X[shuff]\n",
    "        y_shuff = y[shuff]\n",
    "\n",
    "        mk = 0.0\n",
    "        sk= 0.0\n",
    "        for k in range(1, m+1):\n",
    "            random_index = M*np.random.randint(m) \n",
    "            Xi = X_shuff[random_index:random_index+M]\n",
    "            yi = y_shuff[random_index:random_index+M]\n",
    "            gradient =  sum_c_i(Xi, xk, yi,n, method, lamb)\n",
    "            Giter = gradient*gradient\n",
    "            mk = ((1- momentum)*gradient + momentum*mk)/(1- momentum**k)\n",
    "            sk = ((1- secmomentum)*Giter + secmomentum*sk)/(1-secmomentum**k)\n",
    "            xk = xk - gamma*mk/(np.sqrt(sk) + delta)\n",
    "\n",
    "    return xk"
   ]
  },
  {
   "cell_type": "code",
   "execution_count": null,
   "id": "4747099c-1677-45c6-8dd3-6032fd64c5bd",
   "metadata": {},
   "outputs": [],
   "source": []
  },
  {
   "cell_type": "markdown",
   "id": "06e167ed-2e52-4b54-9b28-41b8c322e5ca",
   "metadata": {},
   "source": [
    "## replace analytical gradient using autograd"
   ]
  },
  {
   "cell_type": "markdown",
   "id": "8fe543cf-c967-46e2-979c-0780137da044",
   "metadata": {},
   "source": [
    "For the non stochastic variants we can use"
   ]
  },
  {
   "cell_type": "code",
   "execution_count": 116,
   "id": "9412827d-2806-4098-9f70-386aee30f255",
   "metadata": {},
   "outputs": [],
   "source": [
    "# MSE for OLS and MSE+ lambda * beta^Tbeta for RIDGE ( but this is not the TRUE criterion we have for ridge minimiation !!!!!)\n",
    "def cost(X,y,beta, method='OLS',lamb=0):\n",
    "    if method == 'OLS':\n",
    "        return np.sum((y-X @ beta)**2)/ X.shape[0]    #(X@ beta -y).T @ (X @ beta - y) \n",
    "    elif method == 'RIDGE':\n",
    "        return np.sum((y-X @ beta)**2)/ X.shape[0] + np.sum(beta**2) #(X@ beta -y).T @ (X @ beta - y) + lamb * beta.T @ beta"
   ]
  },
  {
   "cell_type": "markdown",
   "id": "3c34a8a6-4d8b-4c30-9aa1-a9c289f756a3",
   "metadata": {},
   "source": [
    "And then the gradient with respect to beta is given by the following:"
   ]
  },
  {
   "cell_type": "code",
   "execution_count": 123,
   "id": "b6d9d089-a574-4f46-a48e-bb717acbe4e2",
   "metadata": {},
   "outputs": [
    {
     "data": {
      "text/plain": [
       "array([[158.5],\n",
       "       [237. ],\n",
       "       [261.5],\n",
       "       [227. ]])"
      ]
     },
     "execution_count": 123,
     "metadata": {},
     "output_type": "execute_result"
    }
   ],
   "source": [
    "# Gradient function\n",
    "cost_grad = grad(cost, 2)\n",
    "\n",
    "# e.g.\n",
    "X = np.array([[1,1,1,1], [1,2,3,4], [2,4,4,2], [3,3,3,3]])\n",
    "y = np.array([1,2,1,1])\n",
    "beta = np.array([0.5, 1, 2, 1]).reshape(-1,1)\n",
    "lamb = 10\n",
    "method = 'RIDGE'\n",
    "#method = 'OLS'\n",
    "cost_grad(X,y,beta, method, lamb)"
   ]
  },
  {
   "cell_type": "markdown",
   "id": "ef639ae7-de08-4489-87ef-7c01ec155fd7",
   "metadata": {},
   "source": [
    "And for the stochastic gradients consider the following:\n",
    "\n",
    "In order to get $\\nabla C(\\beta) = \\sum_{i=1}^n \\nabla c_i(x_i, \\beta)$\n",
    "\n",
    "For OLS (with lambda = 0) and RIDGE this $c_i(x_i)$ is simply $$\n",
    "\\frac{1}{n}(x_i \\beta - y_i)^2 + \\frac{1}{n}\\lambda  \\sum_{j=1}^p \\beta_j^2$$\n",
    "So the sum of some $c_i(x_i)$ for $i \\in I$ is $$\\sum_{i \\in I} c_i(x_i) = \\frac{1}{n} \\Big(\\sum_{i \\in I} (x_i \\beta - y_i)^2 \\Big) + \\frac{|I|}{n}\\lambda  \\sum_{j=1}^p \\beta_j^2 = \\frac{1}{n} \\Big(  |I| \\lambda  \\sum_{j=1}^p \\beta_j^2 +   \\sum_{i \\in I} (x_i \\beta - y_i)^2\\Big)$$"
   ]
  },
  {
   "cell_type": "code",
   "execution_count": 118,
   "id": "d8b2ff66-ebc0-459a-bbc3-ceac49e71b61",
   "metadata": {},
   "outputs": [],
   "source": [
    "# so that if X_sub = X ... then have cost\n",
    "def subset_cost(X_sub,y_sub,beta, n, method='OLS', lamb=0):\n",
    "    if method == 'OLS':\n",
    "        return np.sum((y_sub-X_sub @ beta)**2)/ n  #(X@ beta -y).T @ (X @ beta - y) \n",
    "    elif method == 'RIDGE':\n",
    "        return 1/n * (np.sum((y_sub-X_sub @ beta)**2) + X_sub.shape[0] * np.sum(beta**2))"
   ]
  },
  {
   "cell_type": "code",
   "execution_count": 125,
   "id": "ff05a8ac-52e8-4cf5-a649-51587d380cf1",
   "metadata": {},
   "outputs": [
    {
     "data": {
      "text/plain": [
       "array([[158.5],\n",
       "       [237. ],\n",
       "       [261.5],\n",
       "       [227. ]])"
      ]
     },
     "execution_count": 125,
     "metadata": {},
     "output_type": "execute_result"
    }
   ],
   "source": [
    "# Gradient function\n",
    "subset_cost_grad = grad(subset_cost, 2)\n",
    "\n",
    "# e.g. \n",
    "n = X.shape[0]\n",
    "subset_cost_grad(X,y,beta,n, method, lamb)"
   ]
  },
  {
   "cell_type": "markdown",
   "id": "9bd73e0b-65bf-4815-bd62-3136c51c358b",
   "metadata": {},
   "source": [
    "SO, when using the above gradient descnet functions, the derivative function that one gives into the function can be introduced by this autograd derivatives using the cost & the subset_cost function."
   ]
  },
  {
   "cell_type": "code",
   "execution_count": null,
   "id": "1f8446e3-829f-46a5-a449-e987bae46ac2",
   "metadata": {},
   "outputs": [],
   "source": []
  },
  {
   "cell_type": "markdown",
   "id": "629c8a0e-d443-4e7c-af5d-2da4dbd7c446",
   "metadata": {},
   "source": [
    "## Franke"
   ]
  },
  {
   "cell_type": "code",
   "execution_count": 126,
   "id": "087012be-9364-45cb-952a-916317402ace",
   "metadata": {},
   "outputs": [],
   "source": [
    "def FrankeFunction(x,y, noise=0):\n",
    "    term1 = 0.75*np.exp(-(0.25*(9*x-2)**2) - 0.25*((9*y-2)**2))\n",
    "    term2 = 0.75*np.exp(-((9*x+1)**2)/49.0 - 0.1*(9*y+1))\n",
    "    term3 = 0.5*np.exp(-(9*x-7)**2/4.0 - 0.25*((9*y-3)**2))\n",
    "    term4 = -0.2*np.exp(-(9*x-4)**2 - (9*y-7)**2)\n",
    "    return term1 + term2 + term3 + term4 + noise*np.random.normal(0, 1, (n,n))\n"
   ]
  },
  {
   "cell_type": "code",
   "execution_count": null,
   "id": "66d87141-e58a-4954-b52c-aaee9f8f9365",
   "metadata": {},
   "outputs": [],
   "source": [
    "n = 100\n",
    "x1 = np.linspace(0, 1, n)\n",
    "x2 = np.linspace(0, 1, n)\n",
    "x1m, x2m = np.meshgrid(x1,x2)\n",
    "y = FrankeFunction(x1m, x2m, noise=0.0)"
   ]
  },
  {
   "cell_type": "code",
   "execution_count": null,
   "id": "a63786ed-aaca-45ea-9873-1465739aef78",
   "metadata": {},
   "outputs": [],
   "source": [
    "fig = plt.figure()\n",
    "ax = fig.add_subplot(111, projection='3d')\n",
    "surf = ax.plot_surface(x1m, x2m, y, cmap='viridis')\n",
    "# ax.plot_surface(xm, ym, z, cmap='viridis')\n",
    "ax.set_xlabel('X')\n",
    "ax.set_ylabel('Y')\n",
    "ax.set_zlabel('Z')\n",
    "#add colorbarz_tilde_ridge.reshape(100,100)\n",
    "plt.colorbar(surf)\n",
    "plt.title('Franke function')\n",
    "plt.show()"
   ]
  },
  {
   "cell_type": "markdown",
   "id": "5ad5d909-1d2b-40c4-8135-f965f939b3cc",
   "metadata": {},
   "source": [
    "TODO: Analsyis fro franke,\n",
    "I just did an anlysis for a simpler 1-dim function in week41"
   ]
  }
 ],
 "metadata": {
  "kernelspec": {
   "display_name": ".sklearn-env",
   "language": "python",
   "name": ".sklearn-env"
  },
  "language_info": {
   "codemirror_mode": {
    "name": "ipython",
    "version": 3
   },
   "file_extension": ".py",
   "mimetype": "text/x-python",
   "name": "python",
   "nbconvert_exporter": "python",
   "pygments_lexer": "ipython3",
   "version": "3.12.6"
  }
 },
 "nbformat": 4,
 "nbformat_minor": 5
}
