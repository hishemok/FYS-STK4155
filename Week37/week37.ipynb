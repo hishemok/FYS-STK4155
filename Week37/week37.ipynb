{
 "cells": [
  {
   "cell_type": "markdown",
   "metadata": {},
   "source": [
    "<h1>Exercises week 37</h1>"
   ]
  },
  {
   "cell_type": "markdown",
   "metadata": {},
   "source": [
    "<h2>Exercise 1: Expectation values for ordinary least squares expressions</h2>\n",
    "\n",
    "There exists a continuous function $f(\\mathbf{x})$ and a normal distributed error $\\mathbf{\\epsilon} \\sim N(0,\\sigma^2)$ which describes our data $\\mathbf{y} = f(\\mathbf{x}) + \\epsilon$. We approximate the function $f$ with our model $\\mathbf{\\tilde{y}}= \\mathbf{X\\beta}$, minimized by $(\\mathbf{y} - \\mathbf{\\tilde{y}})^2$.\n",
    "\n",
    "Show that the expectation value of $\\mathbf{y}$ for a given element in $i$:\n",
    "$$\\mathbb{E}(y_i) = \\sum_j x_{ij}\\beta_j=\\mathbf{X}_{i,*}\\mathbf{\\beta}$$ \n",
    "and its variance is:\n",
    "$$\\text{Var}(y_i) = \\sigma^2$$\n",
    "\n",
    "\n",
    "Given $\\mathbf{y} = f(\\mathbf{x}) + \\epsilon$ and $ \\epsilon \\sim N(0, \\sigma^2) $\n",
    "\n",
    "Expectation value:\n",
    "$$\\mathbb{E} (\\mathbf{y}) = \\mathbb{E}(f(\\mathbf{x}) + ϵ ) = \\mathbb{E}(f(\\mathbf{x})) $$\n",
    "Since $\\mathbb{E}(\\epsilon) = 0$, because we assume $\\epsilon$ to be normally distributed with a mean value of 0, and a variance of $\\sigma^2$.\n",
    "\n",
    "We need to keep in mind our model for $\\mathbf{y}$ is $\\mathbf{\\tilde{y}}= \\mathbf{X\\beta}$\n",
    "\n",
    "From there we can look at it element-wise:\n",
    "$$\\mathbb{E}(y_i) =  \\sum_j x_{ij} β_j  = \\mathbf{X}_{i,*}\\mathbf{\\beta}$$\n",
    "\n",
    "\n",
    "Variance:\n",
    "The variance lies in the normal distributed error $\\mathbf{\\epsilon} \\sim N(0,\\sigma^2)$. \n",
    "For each point in $\\mathbf{y}$ the variance   $\\text{Var}(y_i) =\\sigma^2$\n",
    "\n"
   ]
  },
  {
   "cell_type": "markdown",
   "metadata": {},
   "source": [
    "<h2>Exercise 2: Expectation values for Ridge regression</h2>"
   ]
  }
 ],
 "metadata": {
  "kernelspec": {
   "display_name": "Python 3",
   "language": "python",
   "name": "python3"
  },
  "language_info": {
   "name": "python",
   "version": "3.10.8"
  }
 },
 "nbformat": 4,
 "nbformat_minor": 2
}
