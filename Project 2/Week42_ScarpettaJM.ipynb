{
  "nbformat": 4,
  "nbformat_minor": 0,
  "metadata": {
    "colab": {
      "provenance": []
    },
    "kernelspec": {
      "name": "python3",
      "display_name": "Python 3"
    },
    "language_info": {
      "name": "python"
    }
  },
  "cells": [
    {
      "cell_type": "code",
      "execution_count": 1,
      "metadata": {
        "id": "3Yo-N0iPASfI"
      },
      "outputs": [],
      "source": [
        "import autograd.numpy as np\n",
        "from sklearn import datasets\n",
        "import matplotlib.pyplot as plt\n",
        "from sklearn.metrics import accuracy_score\n",
        "\n",
        "# Defining some activation functions\n",
        "def ReLU(z):\n",
        "    return np.where(z > 0, z, 0)\n",
        "\n",
        "def sigmoid(z):\n",
        "    return 1 / (1 + np.exp(-z))\n",
        "\n",
        "def softmax(z):\n",
        "    \"\"\"Compute softmax values for each set of scores in the rows of the matrix z.\n",
        "    Used with batched input data.\"\"\"\n",
        "    e_z = np.exp(z - np.max(z, axis=0))\n",
        "    return e_z / np.sum(e_z, axis=1)[:, np.newaxis]\n",
        "\n",
        "def softmax_vec(z):\n",
        "    \"\"\"Compute softmax values for each set of scores in the vector z.\n",
        "    Use this function when you use the activation function on one vector at a time\"\"\"\n",
        "    e_z = np.exp(z - np.max(z))\n",
        "    return e_z / np.sum(e_z)"
      ]
    },
    {
      "cell_type": "markdown",
      "source": [
        "# Exercise 1"
      ],
      "metadata": {
        "id": "Q_URtyMvBIeM"
      }
    },
    {
      "cell_type": "markdown",
      "source": [
        "**a) Given the shape of the first layer weight matrix, what is the input shape of the neural network? What is the output shape of the first layer?** \\\\\n",
        "\n",
        "Since the input data is a 2-dim vector, the input shape of the neural network is 2 (neurons). The Weight Matrix shape is 4$\\times$2, then the output shape of the first layer is 4 (neurons)."
      ],
      "metadata": {
        "id": "bNnckPtVM_qj"
      }
    },
    {
      "cell_type": "code",
      "source": [
        "#Initial data\n",
        "np.random.seed(2024)\n",
        "x = np.random.randn(2)\n",
        "W1 = np.random.randn(4, 2)\n",
        "\n",
        "# b) Define the bias of the first layer\n",
        "b1 = np.random.randn(4)\n",
        "\n",
        "# c) Compute the intermediary z1 for the first layer\n",
        "z1 = np.dot(W1, x) + b1\n",
        "\n",
        "# d) Compute the activation a1 for the first layer using the ReLU activation function\n",
        "a1 = ReLU(z1)\n",
        "\n",
        "sol1 = np.array([0.60610368, 4.0076268, 0.0, 0.56469864])\n",
        "\n",
        "#Check results\n",
        "print(a1)\n",
        "print(sol1)\n",
        "print(np.allclose(a1, sol1))"
      ],
      "metadata": {
        "colab": {
          "base_uri": "https://localhost:8080/"
        },
        "id": "GjcTgqUcA-Wt",
        "outputId": "4f9d1f54-5a9d-44db-8189-ee53e906653d"
      },
      "execution_count": 2,
      "outputs": [
        {
          "output_type": "stream",
          "name": "stdout",
          "text": [
            "[0.60610368 4.0076268  0.         0.56469864]\n",
            "[0.60610368 4.0076268  0.         0.56469864]\n",
            "True\n"
          ]
        }
      ]
    },
    {
      "cell_type": "markdown",
      "source": [
        "# Exercise 2\n",
        "\n",
        "**a)  What is the input of the second layer? What is its shape?**\n",
        "\n",
        "The input consist of eight neurons, therefore the second layer has a shape of 8$×$1."
      ],
      "metadata": {
        "id": "r4f6pVb9xKYC"
      }
    },
    {
      "cell_type": "code",
      "source": [
        "#b)  Define the weight and bias of the second layer with the right shapes.\n",
        "W2 = np.random.randn(8, 4)\n",
        "b2 = np.random.randn(8)\n",
        "\n",
        "#c) Compute the intermediary z2 and activation a2 for the second layer.\n",
        "z2 = np.dot(W2, a1) + b2\n",
        "a2 = ReLU(z2)\n",
        "\n",
        "#Check the results\n",
        "print(\n",
        "    np.allclose(np.exp(len(a2)), 2980.9579870417283)\n",
        ")  # This should evaluate to True if a2 has the correct shape :)"
      ],
      "metadata": {
        "colab": {
          "base_uri": "https://localhost:8080/"
        },
        "id": "zhgv8B2rxaOz",
        "outputId": "f73d7405-c9c5-4d19-dfa0-46c47a6d795e"
      },
      "execution_count": 3,
      "outputs": [
        {
          "output_type": "stream",
          "name": "stdout",
          "text": [
            "True\n"
          ]
        }
      ]
    },
    {
      "cell_type": "markdown",
      "source": [
        "# Exercise 3\n",
        "\n",
        "**a) Complete the function below so that it returns a list layers of weight and bias tuples (W, b) for each layer, in order, with the correct shapes that we can use later as our network parameters.**"
      ],
      "metadata": {
        "id": "wvhnaCvAyROV"
      }
    },
    {
      "cell_type": "code",
      "source": [
        "def create_layers(network_input_size, layer_output_sizes):\n",
        "    layers = []\n",
        "\n",
        "    i_size = network_input_size\n",
        "    for layer_output_size in layer_output_sizes:\n",
        "        W = np.random.randn(layer_output_size, i_size)\n",
        "        b = np.random.randn(layer_output_size)\n",
        "        layers.append((W, b))\n",
        "\n",
        "        i_size = layer_output_size\n",
        "    return layers"
      ],
      "metadata": {
        "id": "-eOoSu9nyW18"
      },
      "execution_count": 4,
      "outputs": []
    },
    {
      "cell_type": "markdown",
      "source": [
        "**b) Comple the function below so that it evaluates the intermediary z and activation a for each layer, with ReLU actication, and returns the final activation a. This is the complete feed-forward pass, a full neural network!**"
      ],
      "metadata": {
        "id": "C0n9CsMn0bl7"
      }
    },
    {
      "cell_type": "code",
      "source": [
        "def feed_forward_all_relu(layers, input):\n",
        "    a = input\n",
        "    for W, b in layers:\n",
        "        z = W @ a + b\n",
        "        a = ReLU(z)\n",
        "    return a"
      ],
      "metadata": {
        "id": "mZWg-2RS0gdP"
      },
      "execution_count": 5,
      "outputs": []
    },
    {
      "cell_type": "markdown",
      "source": [
        "**c) Create a network with input size 8 and layers with output sizes 10, 16, 6, 2. Evaluate it and make sure that you get the correct size vectors along the way.**"
      ],
      "metadata": {
        "id": "Ez208tOP1AR3"
      }
    },
    {
      "cell_type": "code",
      "source": [
        "input_size = 8\n",
        "layer_output_sizes = [10, 16, 6, 2]\n",
        "\n",
        "x = np.random.rand(input_size)\n",
        "layers = create_layers(input_size, layer_output_sizes)\n",
        "predict = feed_forward_all_relu(layers, x)\n",
        "\n",
        "#Check the shapes of the layers\n",
        "print(f\"Layer {0} |  Input shape: {input_size}\")\n",
        "for i, (W, b) in enumerate(layers):\n",
        "    print(f\"Layer {i+1} |  W-shape: {W.shape}   b-shape: {b.shape}\")\n",
        "print(\"\\n\")\n",
        "\n",
        "#Check the results\n",
        "print(predict)"
      ],
      "metadata": {
        "colab": {
          "base_uri": "https://localhost:8080/"
        },
        "id": "KF922tlZ0-XF",
        "outputId": "7c5f229a-bf3c-4fbd-9e4c-1a1e743b802b"
      },
      "execution_count": 6,
      "outputs": [
        {
          "output_type": "stream",
          "name": "stdout",
          "text": [
            "Layer 0 |  Input shape: 8\n",
            "Layer 1 |  W-shape: (10, 8)   b-shape: (10,)\n",
            "Layer 2 |  W-shape: (16, 10)   b-shape: (16,)\n",
            "Layer 3 |  W-shape: (6, 16)   b-shape: (6,)\n",
            "Layer 4 |  W-shape: (2, 6)   b-shape: (2,)\n",
            "\n",
            "\n",
            "[5.36337158 0.        ]\n"
          ]
        }
      ]
    },
    {
      "cell_type": "markdown",
      "source": [
        "**d) Why is a neural network with no activation functions always mathematically equivelent to a neural network with only one layer?**\n",
        "\n",
        "Because a single layer with no activation will be simply a linear transformation of the input. Additionally, multiple-layer neural network with no activations will be just compositions of linear functions, resulting in a final linear transformation. Therefore, it will be equivalent to a single layer.  "
      ],
      "metadata": {
        "id": "SO2vU4ch2_RL"
      }
    },
    {
      "cell_type": "markdown",
      "source": [
        "# Exercise 4\n",
        "\n",
        "**a) Complete the feed_forward function which accepts a list of activation functions as an argument, and which evaluates these activation functions at each layer.**"
      ],
      "metadata": {
        "id": "hHA0BdQI7Lk1"
      }
    },
    {
      "cell_type": "code",
      "source": [
        "def feed_forward(input, layers, activation_funcs):\n",
        "    a = input\n",
        "    for (W, b), activation_func in zip(layers, activation_funcs):\n",
        "        z = W @ a + b\n",
        "        a = activation_func(z)\n",
        "    return a"
      ],
      "metadata": {
        "id": "JBOpwnge5dMg"
      },
      "execution_count": 7,
      "outputs": []
    },
    {
      "cell_type": "code",
      "source": [
        "# b) Evaluate a network with three layers and these activation functions.\n",
        "\n",
        "network_input_size = 4\n",
        "layer_output_sizes = [6, 8, 2]\n",
        "activation_funcs = [ReLU, ReLU, sigmoid]\n",
        "layers = create_layers(network_input_size, layer_output_sizes)\n",
        "\n",
        "#Check results\n",
        "x = np.random.randn(network_input_size)\n",
        "feed_forward(x, layers, activation_funcs)"
      ],
      "metadata": {
        "colab": {
          "base_uri": "https://localhost:8080/"
        },
        "id": "7zl48R2v8YPT",
        "outputId": "282f8ad8-bb82-4a2d-99db-dbf36be8b46e"
      },
      "execution_count": 8,
      "outputs": [
        {
          "output_type": "execute_result",
          "data": {
            "text/plain": [
              "array([0.30765167, 0.94837709])"
            ]
          },
          "metadata": {},
          "execution_count": 8
        }
      ]
    },
    {
      "cell_type": "code",
      "source": [
        "# c) How does the output of the network change if you use sigmoid in the hidden layers and ReLU in the output layer?\n",
        "\n",
        "#Trying Sigmoid() in the hidden layers\n",
        "activation_funcs_1 = [ReLU, sigmoid, sigmoid]\n",
        "activation_funcs_2 = [sigmoid, sigmoid, sigmoid]\n",
        "\n",
        "print(feed_forward(x, layers, activation_funcs_1))\n",
        "print(feed_forward(x, layers, activation_funcs_2))"
      ],
      "metadata": {
        "colab": {
          "base_uri": "https://localhost:8080/"
        },
        "id": "8RHB3lOgFbiY",
        "outputId": "da5787a4-d804-46fd-f234-d6b36cd5fb88"
      },
      "execution_count": 9,
      "outputs": [
        {
          "output_type": "stream",
          "name": "stdout",
          "text": [
            "[0.50528012 0.88437157]\n",
            "[0.52273804 0.80457171]\n"
          ]
        }
      ]
    },
    {
      "cell_type": "markdown",
      "source": [
        "# Exercise 5\n",
        "\n",
        "**a) Complete the function create_layers_batch so that the weight matrix is the transpose of what it was when you only sent in one input at a time.**"
      ],
      "metadata": {
        "id": "XW7RGjo5HO4W"
      }
    },
    {
      "cell_type": "code",
      "source": [
        "def create_layers_batch(network_input_size, layer_output_sizes):\n",
        "    layers = []\n",
        "\n",
        "    i_size = network_input_size\n",
        "    for layer_output_size in layer_output_sizes:\n",
        "        W_T = np.random.randn(layer_output_size, i_size).T\n",
        "        b = np.random.randn(layer_output_size)\n",
        "        layers.append((W_T, b))\n",
        "\n",
        "        i_size = layer_output_size\n",
        "    return layers"
      ],
      "metadata": {
        "id": "Nv7UkIYiIrwE"
      },
      "execution_count": 10,
      "outputs": []
    },
    {
      "cell_type": "markdown",
      "source": [
        "**b)** Make a matrix of inputs with the shape (number of features, number of inputs), you choose the number of inputs and features per input. Then complete the function feed_forward_batch so that you can process this matrix of inputs with only one matrix multiplication and one broadcasted vector addition per layer. (Hint: You will only need to swap two variable around from your previous implementation, but remember to test that you get the same results for equivelent inputs!)"
      ],
      "metadata": {
        "id": "WtrBV0eDNYVG"
      }
    },
    {
      "cell_type": "code",
      "source": [
        "inputs = np.random.rand(1000, 4)\n",
        "\n",
        "def feed_forward_batch(inputs, layers, activation_funcs):\n",
        "    a = inputs\n",
        "    for (W_T, b), activation_func in zip(layers, activation_funcs):\n",
        "        z = a @ W_T + b\n",
        "        a = activation_func(z)\n",
        "    return a"
      ],
      "metadata": {
        "id": "3BNRAJnTNaJk"
      },
      "execution_count": 11,
      "outputs": []
    },
    {
      "cell_type": "markdown",
      "source": [
        "**c)** Create and evaluate a neural network with 4 inputs and layers with output sizes 12, 10, 3 and activations ReLU, ReLU, softmax."
      ],
      "metadata": {
        "id": "uRAgAdwvS-yu"
      }
    },
    {
      "cell_type": "code",
      "source": [
        "network_input_size = 4\n",
        "layer_output_sizes = [12, 10, 3]\n",
        "activation_funcs = [ReLU, ReLU, softmax]\n",
        "layers = create_layers_batch(network_input_size, layer_output_sizes)\n",
        "\n",
        "x = np.random.randn(network_input_size)\n",
        "predict = feed_forward_batch(inputs, layers, activation_funcs)\n",
        "print(predict)"
      ],
      "metadata": {
        "colab": {
          "base_uri": "https://localhost:8080/"
        },
        "id": "wccZ9XdVTDqe",
        "outputId": "db1235f7-4192-4575-a9af-24b9188b7fdc"
      },
      "execution_count": 12,
      "outputs": [
        {
          "output_type": "stream",
          "name": "stdout",
          "text": [
            "[[0.00745252 0.02878514 0.96376235]\n",
            " [0.01939518 0.05909293 0.92151189]\n",
            " [0.00721831 0.06962953 0.92315216]\n",
            " ...\n",
            " [0.00671954 0.04615326 0.9471272 ]\n",
            " [0.14999501 0.01812983 0.83187516]\n",
            " [0.00732438 0.01879557 0.97388005]]\n"
          ]
        }
      ]
    },
    {
      "cell_type": "code",
      "source": [
        "# Check the forward with a smaller batch with identical numbers.\n",
        "rand_input = np.array([0.38351046, 0.62616872, 0.78340012, 0.47939353])\n",
        "inputs = np.tile(rand_input, (10, 1))\n",
        "print(\"Inputs:\\n\", inputs)\n",
        "\n",
        "\n",
        "predict = feed_forward_batch(inputs, layers, activation_funcs)\n",
        "print(\"Output: \\n\", predict)\n",
        "\n",
        "\n"
      ],
      "metadata": {
        "colab": {
          "base_uri": "https://localhost:8080/"
        },
        "id": "gkBfGf8MnQEu",
        "outputId": "dfceb704-b8b8-47a3-e63e-bd9bc7e6a98b"
      },
      "execution_count": 13,
      "outputs": [
        {
          "output_type": "stream",
          "name": "stdout",
          "text": [
            "Inputs:\n",
            " [[0.38351046 0.62616872 0.78340012 0.47939353]\n",
            " [0.38351046 0.62616872 0.78340012 0.47939353]\n",
            " [0.38351046 0.62616872 0.78340012 0.47939353]\n",
            " [0.38351046 0.62616872 0.78340012 0.47939353]\n",
            " [0.38351046 0.62616872 0.78340012 0.47939353]\n",
            " [0.38351046 0.62616872 0.78340012 0.47939353]\n",
            " [0.38351046 0.62616872 0.78340012 0.47939353]\n",
            " [0.38351046 0.62616872 0.78340012 0.47939353]\n",
            " [0.38351046 0.62616872 0.78340012 0.47939353]\n",
            " [0.38351046 0.62616872 0.78340012 0.47939353]]\n",
            "Output: \n",
            " [[0.33333333 0.33333333 0.33333333]\n",
            " [0.33333333 0.33333333 0.33333333]\n",
            " [0.33333333 0.33333333 0.33333333]\n",
            " [0.33333333 0.33333333 0.33333333]\n",
            " [0.33333333 0.33333333 0.33333333]\n",
            " [0.33333333 0.33333333 0.33333333]\n",
            " [0.33333333 0.33333333 0.33333333]\n",
            " [0.33333333 0.33333333 0.33333333]\n",
            " [0.33333333 0.33333333 0.33333333]\n",
            " [0.33333333 0.33333333 0.33333333]]\n"
          ]
        }
      ]
    },
    {
      "cell_type": "markdown",
      "source": [
        "# Exercise 6 - Predicting on real data"
      ],
      "metadata": {
        "id": "YKjV1cEdS_ew"
      }
    },
    {
      "cell_type": "code",
      "source": [
        "from sklearn import datasets\n",
        "from sklearn.metrics import accuracy_score\n",
        "\n",
        "iris = datasets.load_iris()\n",
        "\n",
        "_, ax = plt.subplots()\n",
        "scatter = ax.scatter(iris.data[:, 0], iris.data[:, 1], c=iris.target)\n",
        "ax.set(xlabel=iris.feature_names[0], ylabel=iris.feature_names[1])\n",
        "_ = ax.legend(\n",
        "    scatter.legend_elements()[0], iris.target_names, loc=\"upper right\", title=\"Classes\"\n",
        ")"
      ],
      "metadata": {
        "colab": {
          "base_uri": "https://localhost:8080/",
          "height": 452
        },
        "id": "VY0_LDQuTB4s",
        "outputId": "474372b2-919c-45b7-8310-8941c055cf57"
      },
      "execution_count": 14,
      "outputs": [
        {
          "output_type": "display_data",
          "data": {
            "text/plain": [
              "<Figure size 640x480 with 1 Axes>"
            ],
            "image/png": "[encoded data removed]"
          },
          "metadata": {}
        }
      ]
    },
    {
      "cell_type": "code",
      "source": [
        "inputs = iris.data\n",
        "\n",
        "\n",
        "# Since each prediction is a vector with a score for each of the three types of flowers,\n",
        "# we need to make each target a vector with a 1 for the correct flower and a 0 for the others.\n",
        "targets = np.zeros((len(iris.data), 3))\n",
        "for i, t in enumerate(iris.target):\n",
        "    targets[i, t] = 1\n",
        "\n",
        "def accuracy(predictions, targets):\n",
        "    one_hot_predictions = np.zeros(predictions.shape)\n",
        "\n",
        "    for i, prediction in enumerate(predictions):\n",
        "        one_hot_predictions[i, np.argmax(prediction)] = 1\n",
        "    return accuracy_score(one_hot_predictions, targets)\n",
        "\n",
        "print(\"Inputs shape: \", inputs.shape)\n",
        "print(\"Output shape: \", targets.shape)"
      ],
      "metadata": {
        "colab": {
          "base_uri": "https://localhost:8080/"
        },
        "id": "_flkwhWXbQFV",
        "outputId": "2c481d43-ce38-4ac3-ba7b-b4912744c1c0"
      },
      "execution_count": 15,
      "outputs": [
        {
          "output_type": "stream",
          "name": "stdout",
          "text": [
            "Inputs shape:  (150, 4)\n",
            "Output shape:  (150, 3)\n"
          ]
        }
      ]
    },
    {
      "cell_type": "markdown",
      "source": [
        "**a) What should the input size for the network be with this dataset? What should the output size of the last layer be?**\n",
        "\n",
        "Since the input contains 150 samples each one with 4 features, the input size should be 4 neurons. In the same way, the targets have three different classes to distinguish so the output layer is of length 3.\n",
        "\n",
        "\n",
        "\n",
        "**b) Create a network with two hidden layers, the first with sigmoid activation and the last with softmax, the first layer should have 8 “nodes”, the second has the number of nodes you found in exercise a). Softmax returns a “probability distribution”, in the sense that the numbers in the output are positive and add up to 1 and, their magnitude are in some sense relative to their magnitude before going through the softmax function. Remember to use the batched version of the create_layers and feed forward functions.**"
      ],
      "metadata": {
        "id": "6gkcmSMHa_dt"
      }
    },
    {
      "cell_type": "code",
      "source": [
        "layers = create_layers_batch(4, [8, 3])\n",
        "activation_funcs = [sigmoid, softmax]\n",
        "\n",
        "# c) Evaluate your model on the entire iris dataset!\n",
        "predictions = feed_forward_batch(inputs, layers, activation_funcs)\n",
        "\n",
        "# d) Compute the accuracy of your model using the accuracy function defined above\n",
        "print(\"Accuracy: \", accuracy(predictions, targets))"
      ],
      "metadata": {
        "colab": {
          "base_uri": "https://localhost:8080/"
        },
        "id": "Q065kVBQmtrs",
        "outputId": "9d323fb2-0199-47db-b792-5c8b640c366b"
      },
      "execution_count": 16,
      "outputs": [
        {
          "output_type": "stream",
          "name": "stdout",
          "text": [
            "Accuracy:  0.4066666666666667\n"
          ]
        }
      ]
    },
    {
      "cell_type": "markdown",
      "source": [
        "# Exercise 7 - Training on real data"
      ],
      "metadata": {
        "id": "v8OsN8m5pJI5"
      }
    },
    {
      "cell_type": "code",
      "source": [
        "from autograd import grad\n",
        "\n",
        "def cross_entropy(predict, target):\n",
        "    return np.sum(-target * np.log(predict))\n",
        "\n",
        "\n",
        "def cost(input, layers, activation_funcs, target):\n",
        "    predict = feed_forward_batch(input, layers, activation_funcs)\n",
        "    return cross_entropy(predict, target)\n",
        "\n",
        "gradient_func = grad(cost, 1)  # Taking the gradient wrt. the second input to the cost function, i.e. the layers\n",
        "gradient_func(inputs, layers, activation_funcs, targets)"
      ],
      "metadata": {
        "colab": {
          "base_uri": "https://localhost:8080/"
        },
        "id": "W92nnOx-qTda",
        "outputId": "4947c629-b7cc-4485-9b74-bec55277727e"
      },
      "execution_count": 17,
      "outputs": [
        {
          "output_type": "execute_result",
          "data": {
            "text/plain": [
              "[(array([[ 9.00964468e-04, -5.89360714e-07, -3.41258890e-01,\n",
              "          -4.13266195e+00,  1.09305739e+00, -2.17536708e+01,\n",
              "          -7.83804381e+00,  1.15196292e+00],\n",
              "         [ 7.97953175e-04, -5.78830188e-07, -1.49267659e-01,\n",
              "          -2.81302607e+00,  7.94098968e-01, -1.86162480e+01,\n",
              "          -1.89558902e+00,  1.34159193e+00],\n",
              "         [ 9.08095612e-05, -6.29244378e-08, -2.16745330e-01,\n",
              "          -1.04616139e+00,  3.01513522e-01, -2.30146501e+00,\n",
              "          -5.80475867e+00, -3.21724585e+00],\n",
              "         [-2.15402542e-05,  4.11253381e-08, -4.97631942e-02,\n",
              "          -1.47982723e-01,  4.70864687e-02,  8.42836201e-01,\n",
              "          -8.77449422e-01, -1.88099321e+00]]),\n",
              "  array([ 1.95032054e-04, -1.31063551e-07, -6.06967572e-02, -8.58581728e-01,\n",
              "          2.18807992e-01, -4.46395549e+00, -1.27976258e+00,  6.23140500e-01])),\n",
              " (array([[-1.25877158e-04,  2.87587597e-04,  3.55952219e-04],\n",
              "         [-8.17965844e-07, -4.02174104e-07, -4.42315718e-07],\n",
              "         [-2.11440732e-01,  4.80852276e-02,  2.48915971e-01],\n",
              "         [ 1.27926403e+00, -8.53500701e-01, -9.14772091e-01],\n",
              "         [ 1.27989647e-01, -7.24075557e-02, -7.55705722e-02],\n",
              "         [-3.80832809e+00,  1.99185230e+00,  3.81393351e+00],\n",
              "         [ 4.03067201e+00, -1.86477022e+00, -3.25584043e+00],\n",
              "         [ 1.96960604e+00, -1.83115630e+00, -3.95559224e-01]]),\n",
              "  array([ 1.83186799e-15, -7.77156117e-16,  1.66533454e-15]))]"
            ]
          },
          "metadata": {},
          "execution_count": 17
        }
      ]
    },
    {
      "cell_type": "markdown",
      "source": [
        "**a) What shape should the gradient of the cost function wrt. weights and biases be?**\n",
        "\n",
        "Taking into account the neural network architecture, we have two weight matrices W1 and W2. Therefore, the derivative wrt $W_1$ is of shape $8\\times 4$ and the derivative wrt $W_2$ is of shape $3\\times 8$. In the same way, considering the dimensions of the layers, the derivatives wrt to $b_1$ and $b_2$ have shapes of $8$ and $3$ respectively."
      ],
      "metadata": {
        "id": "5daKA5gy8Je6"
      }
    },
    {
      "cell_type": "markdown",
      "source": [
        "**b) Use the gradient_func function to take the gradient of the cross entropy wrt. the weights and biases of the network. Check the shapes of what’s inside. What does the grad func from autograd actually do?**\n",
        "\n",
        "The function calculates the numerical derivatives of the matrices and vectors evaluated at the real numbers."
      ],
      "metadata": {
        "id": "CWC6XXFf_gHG"
      }
    },
    {
      "cell_type": "code",
      "source": [
        "layers_grad = gradient_func(\n",
        "    inputs, layers, activation_funcs, targets\n",
        ")  # Don't change this"
      ],
      "metadata": {
        "id": "oVBRpYKy_zAh"
      },
      "execution_count": 18,
      "outputs": []
    },
    {
      "cell_type": "code",
      "source": [
        "# c) Finish the train_network function.\n",
        "\n",
        "def train_network(\n",
        "    inputs, layers, activation_funcs, targets, learning_rate=0.001, epochs=100\n",
        "):\n",
        "    for i in range(epochs):\n",
        "        layers_grad = gradient_func(inputs, layers, activation_funcs, targets)\n",
        "        for (W, b), (W_g, b_g) in zip(layers, layers_grad):\n",
        "            W -= learning_rate * W_g\n",
        "            b -= learning_rate * b_g"
      ],
      "metadata": {
        "id": "5rhutue2_3rH"
      },
      "execution_count": 19,
      "outputs": []
    },
    {
      "cell_type": "markdown",
      "source": [
        "**e) What do we call the gradient method used above?**\n",
        "\n",
        "We use the gradient function that takes the derivatives of all of the functions inside in the arguments and compute the gradientes with respecto to the argument 1."
      ],
      "metadata": {
        "id": "1bz8M3-0AZw3"
      }
    },
    {
      "cell_type": "code",
      "source": [
        "# d) Train your network and see how the accuracy changes! Make a plot if you want\n",
        "\n",
        "train_network(inputs, layers, activation_funcs, targets)\n",
        "predictions = feed_forward_batch(inputs, layers, activation_funcs)\n",
        "print(\"Accuracy: \", accuracy(predictions, targets))"
      ],
      "metadata": {
        "colab": {
          "base_uri": "https://localhost:8080/"
        },
        "id": "fEZdIziRBW0s",
        "outputId": "6ce1a9d5-4a1a-4f9e-8cf3-3d3c1952437f"
      },
      "execution_count": 32,
      "outputs": [
        {
          "output_type": "stream",
          "name": "stdout",
          "text": [
            "Accuracy:  0.9866666666666667\n"
          ]
        }
      ]
    },
    {
      "cell_type": "markdown",
      "source": [
        "Note that if we compile multiple times the code with the training function, the accuracy increases up to a steady value of 0.9866. Then, we slightly modify the above training_network function to return the evolution of the cost function along the epochs.   "
      ],
      "metadata": {
        "id": "GWFRl9V_CORJ"
      }
    },
    {
      "cell_type": "code",
      "source": [
        "def train_network(\n",
        "    inputs, layers, activation_funcs, targets, learning_rate=0.001, epochs=5000\n",
        "):\n",
        "    cost_value = []\n",
        "    for i in range(epochs):\n",
        "        layers_grad = gradient_func(inputs, layers, activation_funcs, targets)\n",
        "        for (W, b), (W_g, b_g) in zip(layers, layers_grad):\n",
        "            W -= learning_rate * W_g\n",
        "            b -= learning_rate * b_g\n",
        "        cost_value.append(cost(inputs, layers, activation_funcs, targets))\n",
        "        predictions = feed_forward_batch(inputs, layers, activation_funcs)\n",
        "    return cost_value\n",
        "\n",
        "cost_value = train_network(inputs, layers, activation_funcs, targets)\n",
        "\n",
        "#Plotting\n",
        "plt.plot(cost_value, \"r-\")\n",
        "plt.title(\"Cost\")\n",
        "plt.xlabel(\"Epochs\")\n",
        "plt.ylabel(\"Cost\")\n",
        "plt.show()\n",
        "\n",
        "plt.show()"
      ],
      "metadata": {
        "colab": {
          "base_uri": "https://localhost:8080/",
          "height": 472
        },
        "id": "IYSmB4ZzC4cO",
        "outputId": "548e676a-7236-48e1-caae-90b617314a9e"
      },
      "execution_count": 33,
      "outputs": [
        {
          "output_type": "display_data",
          "data": {
            "text/plain": [
              "<Figure size 640x480 with 1 Axes>"
            ],
            "image/png": "[encoded data removed]"
          },
          "metadata": {}
        }
      ]
    },
    {
      "cell_type": "code",
      "source": [
        "print(\"Accuracy: \", accuracy(predictions, targets))"
      ],
      "metadata": {
        "colab": {
          "base_uri": "https://localhost:8080/"
        },
        "id": "LiDsetBpE8vu",
        "outputId": "fbf54755-ab41-414e-b0d4-f2fd1f8c15ac"
      },
      "execution_count": 34,
      "outputs": [
        {
          "output_type": "stream",
          "name": "stdout",
          "text": [
            "Accuracy:  0.9866666666666667\n"
          ]
        }
      ]
    },
    {
      "cell_type": "markdown",
      "source": [
        "**e) How high of an accuracy is it possible to acheive with a neural network on this dataset, if we use the whole thing as training data?**\n",
        "\n",
        "We can see that the maximum accuracy that can be achieved is about 98.6%, this could be seen by compiling the training several times in a row and increasing the number of epochs."
      ],
      "metadata": {
        "id": "s6lLG28ZD_vl"
      }
    }
  ]
}