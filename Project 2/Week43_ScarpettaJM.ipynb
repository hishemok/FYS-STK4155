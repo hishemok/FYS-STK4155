{
  "nbformat": 4,
  "nbformat_minor": 0,
  "metadata": {
    "colab": {
      "provenance": []
    },
    "kernelspec": {
      "name": "python3",
      "display_name": "Python 3"
    },
    "language_info": {
      "name": "python"
    }
  },
  "cells": [
    {
      "cell_type": "code",
      "execution_count": 1,
      "metadata": {
        "id": "0LapE8rsFzPp"
      },
      "outputs": [],
      "source": [
        "import autograd.numpy as np  # We need to use this numpy wrapper to make automatic differentiation work later\n",
        "from autograd import grad, elementwise_grad\n",
        "from sklearn import datasets\n",
        "import matplotlib.pyplot as plt\n",
        "from sklearn.metrics import accuracy_score\n",
        "\n",
        "def ReLU(z):\n",
        "    return np.where(z > 0, z, 0)\n",
        "\n",
        "def ReLU_der(z):\n",
        "    return np.where(z > 0, 1, 0)\n",
        "\n",
        "def sigmoid(z):\n",
        "    return 1 / (1 + np.exp(-z))\n",
        "\n",
        "def mse(predict, target):\n",
        "    return np.mean((predict - target) ** 2)"
      ]
    },
    {
      "cell_type": "markdown",
      "source": [
        "# **Exercise 1** -  Done!"
      ],
      "metadata": {
        "id": "vjO0WvwiI9AB"
      }
    },
    {
      "cell_type": "markdown",
      "source": [
        "# **Exercise 2**\n",
        "\n",
        "**a)** **If the weights and bias of a layer has shapes (10, 4) and (10), what will the shapes of the gradients of the cost function wrt. these weights and this bias be?**\n",
        "\n",
        "Since all of the components of the Weight matrix and Bias vector are tunneable parameters. The gradient of the cost function wrt the weights will be of shape (10, 4) and wrt the bias will be of shape (10)\n"
      ],
      "metadata": {
        "id": "k40XuOMIJGtJ"
      }
    },
    {
      "cell_type": "code",
      "source": [
        "# b) Complete the feed_forward_one_layer function.\n",
        "\n",
        "def feed_forward_one_layer(W, b, x):\n",
        "    z = np.dot(W, x) + b\n",
        "    a = sigmoid(z)\n",
        "    return a\n",
        "\n",
        "def cost_one_layer(W, b, x, target):\n",
        "    predict = feed_forward_one_layer(W, b, x)\n",
        "    return mse(predict, target)\n",
        "\n",
        "\n",
        "x = np.random.rand(2)\n",
        "target = np.random.rand(3)\n",
        "\n",
        "W= np.random.rand(3,2)\n",
        "b= np.random.rand(3)"
      ],
      "metadata": {
        "id": "2nExQqTHJKOP"
      },
      "execution_count": 2,
      "outputs": []
    },
    {
      "cell_type": "code",
      "source": [
        "# c) Compute the gradient of the cost function wrt. the weigth and bias by running the cell below.\n",
        "\n",
        "autograd_one_layer = grad(cost_one_layer, [0, 1])\n",
        "W_g, b_g = autograd_one_layer(W, b, x, target)\n",
        "print(W_g, b_g)"
      ],
      "metadata": {
        "colab": {
          "base_uri": "https://localhost:8080/"
        },
        "id": "AeegKl6Scsim",
        "outputId": "8ab8f026-0e37-4518-de4e-5f345e07cdae"
      },
      "execution_count": 4,
      "outputs": [
        {
          "output_type": "stream",
          "name": "stdout",
          "text": [
            "[[0.02428023 0.026545  ]\n",
            " [0.01681218 0.01838036]\n",
            " [0.04549351 0.04973697]] [0.03575285 0.02475609 0.0669896 ]\n"
          ]
        }
      ]
    },
    {
      "cell_type": "markdown",
      "source": [
        "# Exercise 3 - Gradient with one layer writing backpropagation by hand\n",
        "\n",
        "We want to find the gradient of the cost function wrt. the weight and bias. This is quite hard to do directly, so we instead use the chain rule to combine multiple derivatives which are easier to compute.\n",
        "\n",
        "$$\n",
        "\\frac{dC}{dW} = \\frac{dC}{da}\\frac{da}{dz}\\frac{dz}{dW}\n",
        "$$\n",
        "\n",
        "$$\n",
        "\\frac{dC}{db} = \\frac{dC}{da}\\frac{da}{dz}\\frac{dz}{db} \\\\\n",
        "$$\n",
        "\n",
        "\n",
        "\n",
        "**a)** **Which intermediary results can be reused between the two expressions?**\n",
        "\n",
        "We can see from the above expressions that the same terms $\\frac{dC}{da}$ and $\\frac{da}{dz}$ are present in both gradients and are evaluated in the same batch. Therefore, after calculating those once, can be reused in both derivatives."
      ],
      "metadata": {
        "id": "TK4z1X2bdNen"
      }
    },
    {
      "cell_type": "code",
      "source": [
        "# b) What is the derivative of the cost wrt. the final activation?\n",
        "\n",
        "z = W @ x + b\n",
        "a = sigmoid(z)\n",
        "predict = a\n",
        "\n",
        "def mse_der(predict, target):\n",
        "    return 2 * (predict - target)/len(target)\n",
        "\n",
        "#Check the results\n",
        "print(mse_der(predict, target))\n",
        "cost_autograd = grad(mse, 0)\n",
        "print(cost_autograd(predict, target))"
      ],
      "metadata": {
        "colab": {
          "base_uri": "https://localhost:8080/"
        },
        "id": "ZdTbDJccdYk4",
        "outputId": "50a29ade-7503-4652-c48f-09349662f3ca"
      },
      "execution_count": 5,
      "outputs": [
        {
          "output_type": "stream",
          "name": "stdout",
          "text": [
            "[0.18143383 0.17981122 0.34689515]\n",
            "[0.18143383 0.17981122 0.34689515]\n"
          ]
        }
      ]
    },
    {
      "cell_type": "code",
      "source": [
        "# c) What is the expression for the derivative of the sigmoid activation function?\n",
        "\n",
        "def sigmoid_der(z):\n",
        "    return sigmoid(z) * (1 - sigmoid(z))\n",
        "\n",
        "print(sigmoid_der(z))\n",
        "sigmoid_autograd = elementwise_grad(sigmoid, 0)\n",
        "print(sigmoid_autograd(z))"
      ],
      "metadata": {
        "colab": {
          "base_uri": "https://localhost:8080/"
        },
        "id": "MRCj6Eupszj-",
        "outputId": "72672770-9ef7-426a-e039-c7ee4750920f"
      },
      "execution_count": 6,
      "outputs": [
        {
          "output_type": "stream",
          "name": "stdout",
          "text": [
            "[0.19705725 0.13767825 0.19311194]\n",
            "[0.19705725 0.13767825 0.19311194]\n"
          ]
        }
      ]
    },
    {
      "cell_type": "markdown",
      "source": [
        "**d)** **Using the two derivatives you just computed, compute this intermetidary gradient you will use later:**\n",
        "\n",
        "$$\n",
        "\\frac{dC}{dz} = \\frac{dC}{da}\\frac{da}{dz}\n",
        "$$"
      ],
      "metadata": {
        "id": "TqASfTbvtLdj"
      }
    },
    {
      "cell_type": "code",
      "source": [
        "dC_da = mse_der(predict, target)\n",
        "da_dz = sigmoid_der(z)"
      ],
      "metadata": {
        "id": "cMYoiuOatCRH"
      },
      "execution_count": 7,
      "outputs": []
    },
    {
      "cell_type": "markdown",
      "source": [
        "**e)** **What is the derivative of the intermediary z wrt. the weight and bias? What should the shapes be? The one for the weights is a little tricky, it can be easier to play around in the next exercise first. You can also try computing it with autograd to get a hint.**\n",
        "\n",
        "First we note that the intermediary $z$ is given by a linear combination of $W$ and $b$. Therefore, the derivative of $z$ wrt $b$ is simply 1, i.e. a vector of shape 3 with entries 1. In the same way, the derivative of $z$ wrt $W$ is equal to $x$, ie a vector of shape 2 and equal to the input.\n",
        "\n",
        "**f)** **Now combine the expressions you have worked with so far to compute the gradients!**"
      ],
      "metadata": {
        "id": "qCXEneKNtdfC"
      }
    },
    {
      "cell_type": "code",
      "source": [
        "#Combine all together\n",
        "\n",
        "dC_da = mse_der(predict, target)\n",
        "da_dz = sigmoid_der(z)\n",
        "dC_dW = np.outer(dC_da * da_dz, x)\n",
        "dC_db = dC_da * da_dz\n",
        "\n",
        "#Checking results\n",
        "print(\"Manual: \")\n",
        "print(dC_dW, dC_db)\n",
        "W_g, b_g = autograd_one_layer(W, b, x, target)\n",
        "print(\"\\nAutograd: \")\n",
        "print(W_g, b_g)"
      ],
      "metadata": {
        "colab": {
          "base_uri": "https://localhost:8080/"
        },
        "id": "rGusKzX5teo7",
        "outputId": "0b52b9f4-a50e-4780-a674-c02cd9fcfff9"
      },
      "execution_count": 8,
      "outputs": [
        {
          "output_type": "stream",
          "name": "stdout",
          "text": [
            "Manual: \n",
            "[[0.02428023 0.026545  ]\n",
            " [0.01681218 0.01838036]\n",
            " [0.04549351 0.04973697]] [0.03575285 0.02475609 0.0669896 ]\n",
            "\n",
            "Autograd: \n",
            "[[0.02428023 0.026545  ]\n",
            " [0.01681218 0.01838036]\n",
            " [0.04549351 0.04973697]] [0.03575285 0.02475609 0.0669896 ]\n"
          ]
        }
      ]
    },
    {
      "cell_type": "markdown",
      "source": [
        "# Exercise 4 - Gradient with two layers writing backpropagation by hand"
      ],
      "metadata": {
        "id": "vGXubx0T82Qg"
      }
    },
    {
      "cell_type": "code",
      "source": [
        "x = np.random.rand(2)\n",
        "target = np.random.rand(4)\n",
        "\n",
        "W1 = np.random.rand(3, 2)\n",
        "b1 = np.random.rand(3)\n",
        "\n",
        "W2 = np.random.rand(4, 3)\n",
        "b2 = np.random.rand(4)\n",
        "\n",
        "layers = [(W1, b1), (W2, b2)]\n",
        "\n",
        "z1 = W1 @ x + b1\n",
        "a1 = sigmoid(z1)\n",
        "z2 = W2 @ a1 + b2\n",
        "a2 = sigmoid(z2)"
      ],
      "metadata": {
        "id": "xE0FRXT684Fj"
      },
      "execution_count": 9,
      "outputs": []
    },
    {
      "cell_type": "code",
      "source": [
        "# a) Compute the gradients of the last layer, just like you did the single layer in the previous exercise.\n",
        "\n",
        "dC_da2 = mse_der(a2, target)\n",
        "da2_dz2 = sigmoid_der(z2)\n",
        "dC_dW2 = np.outer(dC_da2 * da2_dz2, a1)\n",
        "dC_db2 = dC_da2 * da2_dz2"
      ],
      "metadata": {
        "id": "E-R4tnGV9UXY"
      },
      "execution_count": 10,
      "outputs": []
    },
    {
      "cell_type": "markdown",
      "source": [
        "To find the derivative of the cost wrt. the activation of the first layer, we need a new expression, the one furthest to the right in the following.\n",
        "\n",
        "$$\n",
        "\\frac{dC}{da_1} = \\frac{dC}{dz_2}\\frac{dz_2}{da_1}\n",
        "$$\n",
        "\n",
        "**b)** What is the derivative of the second layer intermetiate wrt. the first layer activation? (First recall how you compute $z_2$)\n",
        "\n",
        "$$\n",
        "\\frac{dz_2}{da_1}\n",
        "$$"
      ],
      "metadata": {
        "id": "QZehUCeX-16f"
      }
    },
    {
      "cell_type": "code",
      "source": [
        "dz2_da1 = W2.T @ (dC_da2 * da2_dz2)"
      ],
      "metadata": {
        "id": "iRmNDIkO-24e"
      },
      "execution_count": 11,
      "outputs": []
    },
    {
      "cell_type": "markdown",
      "source": [
        "**c)** Use this expression, together with expressions which are equivelent to ones for the last layer to compute all the derivatives of the first layer.\n",
        "\n",
        "$$\n",
        "\\frac{dC}{dW_1} = \\frac{dC}{da_1}\\frac{da_1}{dz_1}\\frac{dz_1}{dW_1}\n",
        "$$\n",
        "\n",
        "$$\n",
        "\\frac{dC}{db_1} = \\frac{dC}{da_1}\\frac{da_1}{dz_1}\\frac{dz_1}{db_1}\n",
        "$$\n"
      ],
      "metadata": {
        "id": "dIP0OWwcATNJ"
      }
    },
    {
      "cell_type": "code",
      "source": [
        "dC_da1 = dz2_da1  #Previously calculated\n",
        "da1_dz1 = sigmoid_der(z1)\n",
        "dC_dz1 = dC_da1 * da1_dz1\n",
        "dC_dW1 = np.outer(dC_dz1, x)\n",
        "dC_db1 = dC_dz1\n",
        "\n",
        "print(\"Manual derivatives:\\n\")\n",
        "print(dC_dW1, dC_db1)\n",
        "print(dC_dW2, dC_db2)\n",
        "\n",
        "# d) Make sure you got the same gradient as the following code which uses autograd to do backpropagation.\n",
        "\n",
        "def feed_forward_two_layers(layers, x):\n",
        "    W1, b1 = layers[0]\n",
        "    z1 = W1 @ x + b1\n",
        "    a1 = sigmoid(z1)\n",
        "\n",
        "    W2, b2 = layers[1]\n",
        "    z2 = W2 @ a1 + b2\n",
        "    a2 = sigmoid(z2)\n",
        "\n",
        "    return a2\n",
        "\n",
        "def cost_two_layers(layers, x, target):\n",
        "    predict = feed_forward_two_layers(layers, x)\n",
        "    return mse(predict, target)\n",
        "\n",
        "print(\"\\n\\nAutograd:\\n\")\n",
        "grad_two_layers = grad(cost_two_layers, 0)\n",
        "grad_two_layers(layers, x, target)"
      ],
      "metadata": {
        "colab": {
          "base_uri": "https://localhost:8080/"
        },
        "id": "5VewiILEAUfz",
        "outputId": "b7c030ed-bdf3-49ea-eaf3-6199ae6ae490"
      },
      "execution_count": 24,
      "outputs": [
        {
          "output_type": "stream",
          "name": "stdout",
          "text": [
            "Manual derivatives:\n",
            "\n",
            "[[0.00576483 0.0110443 ]\n",
            " [0.00484135 0.00927507]\n",
            " [0.01169271 0.02240095]] [0.01132614 0.00951177 0.0229726 ]\n",
            "[[0.01982972 0.02133464 0.01470696]\n",
            " [0.02662823 0.02864911 0.01974917]\n",
            " [0.01930202 0.0207669  0.01431559]\n",
            " [0.02816287 0.03030022 0.02088736]] [0.02525172 0.03390913 0.02457974 0.03586339]\n",
            "\n",
            "\n",
            "Autograd:\n",
            "\n"
          ]
        },
        {
          "output_type": "execute_result",
          "data": {
            "text/plain": [
              "[(array([[0.00576483, 0.0110443 ],\n",
              "         [0.00484135, 0.00927507],\n",
              "         [0.01169271, 0.02240095]]),\n",
              "  array([0.01132614, 0.00951177, 0.0229726 ])),\n",
              " (array([[0.01982972, 0.02133464, 0.01470696],\n",
              "         [0.02662823, 0.02864911, 0.01974917],\n",
              "         [0.01930202, 0.0207669 , 0.01431559],\n",
              "         [0.02816287, 0.03030022, 0.02088736]]),\n",
              "  array([0.02525172, 0.03390913, 0.02457974, 0.03586339]))]"
            ]
          },
          "metadata": {},
          "execution_count": 24
        }
      ]
    },
    {
      "cell_type": "markdown",
      "source": [
        "**e)** **How would you use the gradient from this layer to compute the gradient of an even earlier layer? Would the expressions be any different?**\n",
        "\n",
        "The expresions would be the same. As we did in the case of two layers, the expresions for $\\frac{dC}{da_1}$ can be taken as $\\frac{dz_2}{da_1}$ from the consequent layer."
      ],
      "metadata": {
        "id": "X-2h_YuzC5n1"
      }
    },
    {
      "cell_type": "markdown",
      "source": [
        "# Exercise 5 - Gradient with any number of layers"
      ],
      "metadata": {
        "id": "i7foD0JKE_7z"
      }
    },
    {
      "cell_type": "code",
      "source": [
        "def create_layers(network_input_size, layer_output_sizes):\n",
        "    layers = []\n",
        "\n",
        "    i_size = network_input_size\n",
        "    for layer_output_size in layer_output_sizes:\n",
        "        W = np.random.randn(layer_output_size, i_size)\n",
        "        b = np.random.randn(layer_output_size)\n",
        "        layers.append((W, b))\n",
        "\n",
        "        i_size = layer_output_size\n",
        "    return layers\n",
        "\n",
        "\n",
        "def feed_forward(input, layers, activation_funcs):\n",
        "    a = input\n",
        "    for (W, b), activation_func in zip(layers, activation_funcs):\n",
        "        z = W @ a + b\n",
        "        a = activation_func(z)\n",
        "    return a\n",
        "\n",
        "\n",
        "def cost(layers, input, activation_funcs, target):\n",
        "    predict = feed_forward(input, layers, activation_funcs)\n",
        "    return mse(predict, target)\n",
        "\n",
        "def feed_forward_saver(input, layers, activation_funcs):\n",
        "    layer_inputs = []\n",
        "    zs = []\n",
        "    a = input\n",
        "    for (W, b), activation_func in zip(layers, activation_funcs):\n",
        "        layer_inputs.append(a)\n",
        "        z = W @ a + b\n",
        "        a = activation_func(z)\n",
        "\n",
        "        zs.append(z)\n",
        "\n",
        "    return layer_inputs, zs, a"
      ],
      "metadata": {
        "id": "XEAVrJXGE_GQ"
      },
      "execution_count": 12,
      "outputs": []
    },
    {
      "cell_type": "markdown",
      "source": [
        "**a)** **Now, complete the backpropagation function so that it returns the gradient of the cost function wrt. all the weigths and biases. Use the autograd calculation below to make sure you get the correct answer.**\n"
      ],
      "metadata": {
        "id": "dWGVsaqLFiP-"
      }
    },
    {
      "cell_type": "code",
      "source": [
        "def backpropagation(input, layers, activation_funcs, target, activation_ders, cost_der=mse_der):\n",
        "\n",
        "    layer_inputs, zs, predict = feed_forward_saver(input, layers, activation_funcs)\n",
        "\n",
        "    layer_grads = [() for layer in layers]\n",
        "\n",
        "    # We loop over the layers, from the last to the first\n",
        "    for i in reversed(range(len(layers))):\n",
        "        layer_input, z, activation_der = layer_inputs[i], zs[i], activation_ders[i]\n",
        "\n",
        "        if i == len(layers) - 1:\n",
        "            # For last layer we use cost derivative as dC_da(L) can be computed directly\n",
        "            dC_da = cost_der(predict, target)\n",
        "        else:\n",
        "            # For other layers we build on previous z derivative, as dC_da(i) = dC_dz(i+1) * dz(i+1)_da(i)\n",
        "            (W, b) = layers[i + 1]\n",
        "            dC_da = np.dot(W.T, dC_dz)\n",
        "\n",
        "        dC_dz = dC_da * activation_der(z)\n",
        "        dC_dW = np.outer(dC_dz, layer_input)\n",
        "        dC_db = dC_dz\n",
        "\n",
        "        layer_grads[i] = (dC_dW, dC_db)\n",
        "\n",
        "    return layer_grads\n",
        "\n",
        "\n",
        "#Checking the results\n",
        "network_input_size = 2\n",
        "layer_output_sizes = [3, 4]\n",
        "activation_funcs = [sigmoid, ReLU]\n",
        "activation_ders = [sigmoid_der, ReLU_der]\n",
        "\n",
        "layers = create_layers(network_input_size, layer_output_sizes)\n",
        "\n",
        "#Batched inputs and targets\n",
        "x = np.random.rand(network_input_size)\n",
        "target = np.random.rand(4)\n",
        "\n",
        "layer_grads = backpropagation(x, layers, activation_funcs, target, activation_ders)\n",
        "print(\"Manual grads:\\n\")\n",
        "print(layer_grads)\n",
        "\n",
        "\n",
        "print(\"\\n\\nAutograds:\\n\")\n",
        "cost_grad = grad(cost, 0)\n",
        "autograds = cost_grad(layers, x, [sigmoid, ReLU], target)\n",
        "print(autograds)"
      ],
      "metadata": {
        "colab": {
          "base_uri": "https://localhost:8080/"
        },
        "id": "r_pvgAUmFlwP",
        "outputId": "b0ee2a9f-6b5f-44ba-d04e-791fe6fc4664"
      },
      "execution_count": 13,
      "outputs": [
        {
          "output_type": "stream",
          "name": "stdout",
          "text": [
            "Manual grads:\n",
            "\n",
            "[(array([[0.00319047, 0.03439663],\n",
            "       [0.00577736, 0.06228599],\n",
            "       [0.00288888, 0.03114515]]), array([0.03908846, 0.07078203, 0.03539346])), (array([[-0.        , -0.        , -0.        ],\n",
            "       [-0.        , -0.        , -0.        ],\n",
            "       [-0.        , -0.        , -0.        ],\n",
            "       [ 0.72732259,  0.52332181,  0.37939067]]), array([-0.        , -0.        , -0.        ,  0.84860068]))]\n",
            "\n",
            "\n",
            "Autograds:\n",
            "\n",
            "[(array([[0.00319047, 0.03439663],\n",
            "       [0.00577736, 0.06228599],\n",
            "       [0.00288888, 0.03114515]]), array([0.03908846, 0.07078203, 0.03539346])), (array([[0.        , 0.        , 0.        ],\n",
            "       [0.        , 0.        , 0.        ],\n",
            "       [0.        , 0.        , 0.        ],\n",
            "       [0.72732259, 0.52332181, 0.37939067]]), array([0.        , 0.        , 0.        , 0.84860068]))]\n"
          ]
        }
      ]
    },
    {
      "cell_type": "markdown",
      "source": [
        "# Exercise 6 - Batched inputs\n",
        "\n",
        "**Make new versions of all the functions in exercise 5 which now take batched inputs instead. See last weeks exercise 5 for details on how to batch inputs to neural networks. You will also need to update the backpropogation function.**\n",
        "\n",
        "For this implementation, we used the fact that we need to tranpose the weight matrix $W$ in the $z$ step and take the averages with respect to the length of the batches."
      ],
      "metadata": {
        "id": "TrFcnt9OM7ii"
      }
    },
    {
      "cell_type": "code",
      "source": [
        "#The layers and architecture of the network function remains the same, because\n",
        "#do not depend on the input type.\n",
        "def create_layers(network_input_size, layer_output_sizes):\n",
        "    layers = []\n",
        "\n",
        "    i_size = network_input_size\n",
        "    for layer_output_size in layer_output_sizes:\n",
        "        W = np.random.randn(layer_output_size, i_size)\n",
        "        b = np.random.randn(layer_output_size)\n",
        "        layers.append((W, b))\n",
        "\n",
        "        i_size = layer_output_size\n",
        "    return layers\n",
        "\n",
        "#For the forward function we use W transpose to the correct shape as Weekly Ex. 42\n",
        "def feed_forward(inputs, layers, activation_funcs):\n",
        "    a = inputs\n",
        "    for (W, b), activation_func in zip(layers, activation_funcs):\n",
        "        z = a @ W.T + b\n",
        "        a = activation_func(z)\n",
        "    return a\n",
        "\n",
        "#Cost function remains the same\n",
        "def cost(layers, inputs, activation_funcs, targets):\n",
        "    predict = feed_forward(inputs, layers, activation_funcs)\n",
        "    return mse(predict, targets)\n",
        "\n",
        "#As for feed_forward we use W transpose to the correct shape\n",
        "def feed_forward_saver(inputs, layers, activation_funcs):\n",
        "    layer_inputs = []\n",
        "    zs = []\n",
        "    a = inputs\n",
        "    for (W, b), activation_func in zip(layers, activation_funcs):\n",
        "        layer_inputs.append(a)\n",
        "        z = a @ W.T + b  # Take transpose\n",
        "        a = activation_func(z)\n",
        "\n",
        "        zs.append(z)\n",
        "\n",
        "    return layer_inputs, zs, a\n",
        "\n",
        "\n",
        "def backpropagation(\n",
        "    inputs, layers, activation_funcs, targets, activation_ders, cost_der=mse_der\n",
        "):\n",
        "\n",
        "    layer_inputs, zs, predict = feed_forward_saver(inputs, layers, activation_funcs)\n",
        "\n",
        "    batch_size = inputs.shape[0]\n",
        "\n",
        "    layer_grads = [() for layer in layers]\n",
        "\n",
        "    # We loop over the layers, from the last to the first\n",
        "    for i in reversed(range(len(layers))):\n",
        "        layer_input, z, activation_der = layer_inputs[i], zs[i], activation_ders[i]\n",
        "\n",
        "        if i == len(layers) - 1:\n",
        "            # For last layer we use cost derivative as dC_da(L) can be computed directly\n",
        "            dC_da = cost_der(predict, targets)\n",
        "        else:\n",
        "            # For other layers we build on previous z derivative, as dC_da(i) = dC_dz(i+1) * dz(i+1)_da(i)\n",
        "            (W, _) = layers[i + 1]\n",
        "            dC_da = dC_dz @ W  #Just multiply\n",
        "\n",
        "        dC_dz = dC_da * activation_der(z)\n",
        "        dC_dW = dC_dz.T @ layer_input / batch_size\n",
        "        dC_db = np.mean(dC_dz, axis=0)\n",
        "\n",
        "        layer_grads[i] = (dC_dW, dC_db)\n",
        "\n",
        "    return layer_grads\n",
        "\n",
        "\n",
        "#Checking results\n",
        "network_input_size = 2\n",
        "layer_output_sizes = [3, 4]\n",
        "activation_funcs = [sigmoid, ReLU]\n",
        "activation_ders = [sigmoid_der, ReLU_der]\n",
        "\n",
        "layers = create_layers(network_input_size, layer_output_sizes)\n",
        "\n",
        "# Batched inputs\n",
        "batch_size = 5\n",
        "inputs = np.random.rand(batch_size, network_input_size)\n",
        "targets = np.random.rand(batch_size, 4)\n",
        "\n",
        "#Print the results\n",
        "layer_grads = backpropagation(inputs, layers, activation_funcs, targets, activation_ders)\n",
        "print(\"Manual derivatives:\\n\", layer_grads)\n",
        "\n",
        "print(\"\\n\\nAutograd:\")\n",
        "cost_grad = grad(cost, 0)\n",
        "autograds = cost_grad(layers, inputs, activation_funcs, targets)\n",
        "print(autograds)"
      ],
      "metadata": {
        "colab": {
          "base_uri": "https://localhost:8080/"
        },
        "id": "pAm0fdfYM8rQ",
        "outputId": "ea9835fd-c7c3-4902-d7bb-8d651d33bd86"
      },
      "execution_count": 14,
      "outputs": [
        {
          "output_type": "stream",
          "name": "stdout",
          "text": [
            "Manual derivatives:\n",
            " [(array([[-0.00723223, -0.00947421],\n",
            "       [ 0.00465746,  0.0067694 ],\n",
            "       [-0.01413253, -0.01964934]]), array([-0.0229705 ,  0.01540206, -0.04602906])), (array([[ 0.        ,  0.        ,  0.        ],\n",
            "       [ 0.        ,  0.        ,  0.        ],\n",
            "       [-0.0685911 , -0.12054972, -0.07390272],\n",
            "       [ 0.        ,  0.        ,  0.        ]]), array([ 0.        ,  0.        , -0.17669308,  0.        ]))]\n",
            "\n",
            "\n",
            "Autograd:\n",
            "[(array([[-0.00904029, -0.01184277],\n",
            "       [ 0.00582182,  0.00846175],\n",
            "       [-0.01766566, -0.02456168]]), array([-0.02871313,  0.01925257, -0.05753633])), (array([[ 0.        ,  0.        ,  0.        ],\n",
            "       [ 0.        ,  0.        ,  0.        ],\n",
            "       [-0.08573888, -0.15068715, -0.09237839],\n",
            "       [ 0.        ,  0.        ,  0.        ]]), array([ 0.        ,  0.        , -0.22086635,  0.        ]))]\n"
          ]
        }
      ]
    },
    {
      "cell_type": "markdown",
      "source": [
        "After trying and carefully modifying the functions to operate on the batches, it was possible to obtain very similar expressions of the gradient with respect to Autograd, the values coincide in the signs but in all the values there is a difference of a factor of 1.25 one with respect to the other."
      ],
      "metadata": {
        "id": "F_eGol2hsn21"
      }
    },
    {
      "cell_type": "markdown",
      "source": [
        "# Exercise 7 - Training\n",
        "\n",
        "**a)** Complete exercise 6 and 7 from last week, but use your own backpropogation implementation to compute the gradient.\n",
        "\n",
        "**b)** Use stochastic gradient descent with momentum when you train your network."
      ],
      "metadata": {
        "id": "Paq2PpwcuqU7"
      }
    },
    {
      "cell_type": "code",
      "source": [
        "#### HERE WE IMPORT THE PREVIOUS RESULTS\n",
        "\n",
        "from sklearn import datasets\n",
        "from sklearn.metrics import accuracy_score\n",
        "\n",
        "iris = datasets.load_iris()\n",
        "\n",
        "_, ax = plt.subplots()\n",
        "scatter = ax.scatter(iris.data[:, 0], iris.data[:, 1], c=iris.target)\n",
        "ax.set(xlabel=iris.feature_names[0], ylabel=iris.feature_names[1])\n",
        "_ = ax.legend(\n",
        "    scatter.legend_elements()[0], iris.target_names, loc=\"upper right\", title=\"Classes\"\n",
        ")\n",
        "\n",
        "inputs = iris.data\n",
        "\n",
        "\n",
        "# Since each prediction is a vector with a score for each of the three types of flowers,\n",
        "# we need to make each target a vector with a 1 for the correct flower and a 0 for the others.\n",
        "targets = np.zeros((len(iris.data), 3))\n",
        "for i, t in enumerate(iris.target):\n",
        "    targets[i, t] = 1\n",
        "\n",
        "def accuracy(predictions, targets):\n",
        "    one_hot_predictions = np.zeros(predictions.shape)\n",
        "\n",
        "    for i, prediction in enumerate(predictions):\n",
        "        one_hot_predictions[i, np.argmax(prediction)] = 1\n",
        "    return accuracy_score(one_hot_predictions, targets)\n",
        "\n",
        "print(\"Inputs shape: \", inputs.shape)\n",
        "print(\"Output shape: \", targets.shape)\n",
        "\n",
        "layers = create_layers(4, [8, 3])\n",
        "activation_funcs = [ReLU, sigmoid]\n",
        "\n",
        "# c) Evaluate your model on the entire iris dataset!\n",
        "predictions = feed_forward(inputs, layers, activation_funcs)\n",
        "\n",
        "# d) Compute the accuracy of your model using the accuracy function defined above\n",
        "print(\"Accuracy: \", accuracy(predictions, targets))"
      ],
      "metadata": {
        "colab": {
          "base_uri": "https://localhost:8080/",
          "height": 504
        },
        "id": "m3T62aD4wN6T",
        "outputId": "c58c7821-b43e-407e-edba-982e1d75114a"
      },
      "execution_count": 15,
      "outputs": [
        {
          "output_type": "stream",
          "name": "stdout",
          "text": [
            "Inputs shape:  (150, 4)\n",
            "Output shape:  (150, 3)\n",
            "Accuracy:  0.05333333333333334\n"
          ]
        },
        {
          "output_type": "display_data",
          "data": {
            "text/plain": [
              "<Figure size 640x480 with 1 Axes>"
            ],
            "image/png": "[encoded data removed]"
          },
          "metadata": {}
        }
      ]
    },
    {
      "cell_type": "code",
      "source": [
        "def cost(layers, input, activation_funcs, target):\n",
        "    predict = feed_forward(input, layers, activation_funcs)\n",
        "    return mse(predict, target)\n",
        "\n",
        "def train_network(\n",
        "    inputs, layers, activation_funcs, targets, learning_rate=0.1, epochs=10000\n",
        "):\n",
        "    cost_value = []\n",
        "    for i in range(epochs):\n",
        "        layers_grad = backpropagation(inputs, layers, activation_funcs, targets, activation_ders=[ReLU_der, sigmoid_der])\n",
        "        for (W, b), (W_g, b_g) in zip(layers, layers_grad):\n",
        "            W -= learning_rate * W_g\n",
        "            b -= learning_rate * b_g\n",
        "        cost_value.append(cost(layers, inputs, activation_funcs, targets))\n",
        "        predictions = feed_forward(inputs, layers, activation_funcs)\n",
        "    return cost_value\n",
        "\n",
        "layers = create_layers(4, [8, 3])\n",
        "activation_funcs = [ReLU, sigmoid]\n",
        "cost_value = train_network(inputs, layers, activation_funcs, targets)\n",
        "predictions = feed_forward(inputs, layers, activation_funcs)\n",
        "print(\"Accuracy: \", accuracy(predictions, targets))\n",
        "\n",
        "\n",
        "#Plotting\n",
        "plt.plot(cost_value, \"r-\")\n",
        "plt.title(\"Cost\")\n",
        "plt.xlabel(\"Epochs\")\n",
        "plt.ylabel(\"Cost\")\n",
        "plt.show()"
      ],
      "metadata": {
        "colab": {
          "base_uri": "https://localhost:8080/",
          "height": 489
        },
        "id": "dVHxIw8j0hMj",
        "outputId": "e6df1f1d-8a1f-42a9-a4b0-151b7c88513f"
      },
      "execution_count": 16,
      "outputs": [
        {
          "output_type": "stream",
          "name": "stdout",
          "text": [
            "Accuracy:  0.3333333333333333\n"
          ]
        },
        {
          "output_type": "display_data",
          "data": {
            "text/plain": [
              "<Figure size 640x480 with 1 Axes>"
            ],
            "image/png": "[encoded data removed]"
          },
          "metadata": {}
        }
      ]
    },
    {
      "cell_type": "markdown",
      "source": [
        "We can see that the Accuracy value is quite low since the sigmoid function is being used as an activation function in the output layer. Since for this function we have its analytical expression of the derivative for its implementation by hand in backpropagation. However, it fails in accuracy since we are considering MSE as a cost function and not a CrossEntropyLoss, which is better for classification tasks."
      ],
      "metadata": {
        "id": "F0370n-j4QoN"
      }
    },
    {
      "cell_type": "code",
      "source": [
        "# Now train again including with momentum\n",
        "\n",
        "def train_network_momentum(\n",
        "    inputs, layers, activation_funcs, targets, learning_rate=0.1, momentum=0.01, epochs=10000\n",
        "):\n",
        "    cost_value = []\n",
        "    delta_W = [np.zeros_like(W) for W, _ in layers]\n",
        "    delta_b = [np.zeros_like(b) for _, b in layers]\n",
        "    for i in range(epochs):\n",
        "        layers_grad = backpropagation(inputs, layers, activation_funcs, targets, activation_ders=[ReLU_der, sigmoid_der])\n",
        "        for idx, ((W, b), (W_g, b_g)) in enumerate(zip(layers, layers_grad)):\n",
        "            delta_W[idx] = momentum * delta_W[idx] + learning_rate * W_g\n",
        "            delta_b[idx] = momentum * delta_b[idx] + learning_rate * b_g\n",
        "            W -= delta_W[idx]\n",
        "            b -= delta_b[idx]\n",
        "        cost_value.append(cost(layers, inputs, activation_funcs, targets))\n",
        "    return cost_value\n",
        "\n",
        "layers = create_layers(4, [8, 3])\n",
        "activation_funcs = [ReLU, sigmoid]\n",
        "cost_value = train_network(inputs, layers, activation_funcs, targets)\n",
        "predictions = feed_forward(inputs, layers, activation_funcs)\n",
        "print(\"Accuracy: \", accuracy(predictions, targets))\n",
        "\n",
        "\n",
        "#Plotting\n",
        "plt.plot(cost_value, \"r-\")\n",
        "plt.title(\"Cost\")\n",
        "plt.xlabel(\"Epochs\")\n",
        "plt.ylabel(\"Cost\")\n",
        "plt.show()"
      ],
      "metadata": {
        "colab": {
          "base_uri": "https://localhost:8080/",
          "height": 489
        },
        "id": "kiTO0f_H3F03",
        "outputId": "3b3b4e33-6265-4e8a-ac58-c8bc52aff730"
      },
      "execution_count": 17,
      "outputs": [
        {
          "output_type": "stream",
          "name": "stdout",
          "text": [
            "Accuracy:  0.3333333333333333\n"
          ]
        },
        {
          "output_type": "display_data",
          "data": {
            "text/plain": [
              "<Figure size 640x480 with 1 Axes>"
            ],
            "image/png": "[encoded data removed]"
          },
          "metadata": {}
        }
      ]
    },
    {
      "cell_type": "markdown",
      "source": [
        "# Exercise 8 - Object orientation\n"
      ],
      "metadata": {
        "id": "viQYl5_F7ery"
      }
    },
    {
      "cell_type": "code",
      "source": [
        "class NeuralNetwork:\n",
        "    def __init__(\n",
        "        self,\n",
        "        network_input_size,\n",
        "        layer_output_sizes,\n",
        "        activation_funcs,\n",
        "        activation_ders,\n",
        "        cost_fun,\n",
        "        cost_der,\n",
        "    ):\n",
        "        self.layers = create_layers(network_input_size, layer_output_sizes)\n",
        "        self.activation_funcs = activation_funcs\n",
        "        self.activation_ders = activation_ders\n",
        "        self.cost_fun = cost_fun\n",
        "        self.cost_der = cost_der\n",
        "        self.cost_value = []\n",
        "        self.delta_W = [np.zeros_like(W) for W, _ in self.layers]\n",
        "        self.delta_b = [np.zeros_like(b) for _, b in self.layers]\n",
        "        self.learning_rate = 0.1\n",
        "        self.momentum = 0.01\n",
        "\n",
        "\n",
        "    def predict(self, inputs):\n",
        "        # Simple feed forward pass\n",
        "        a = inputs\n",
        "        for (W, b), activation_func in zip(self.layers, self.activation_funcs):\n",
        "            z = a @ W.T + b\n",
        "            a = activation_func(z)\n",
        "        return a\n",
        "\n",
        "    def cost(self, inputs, targets):\n",
        "        predict = self.predict(inputs)\n",
        "        return self.cost_fun(predict, targets)\n",
        "\n",
        "    def _feed_forward_saver(self, inputs):\n",
        "        layer_inputs = []\n",
        "        zs = []\n",
        "        a = inputs\n",
        "        for (W, b), activation_func in zip(self.layers, self.activation_funcs):\n",
        "            layer_inputs.append(a)\n",
        "            z = W @ a + b\n",
        "            zs.append(z)\n",
        "            a = activation_func(z)\n",
        "        return layer_inputs, zs, a\n",
        "\n",
        "    def compute_gradient(self, inputs, targets):\n",
        "        return backpropagation(\n",
        "            inputs,\n",
        "            self.layers,\n",
        "            self.activation_funcs,\n",
        "            targets,\n",
        "            self.activation_ders,\n",
        "            self.cost_der,\n",
        "        )  # Run the previuosly defined backpropagation\n",
        "\n",
        "\n",
        "    def update_weights(self, layer_grads):\n",
        "        for idx, ((W, b), (W_g, b_g)) in enumerate(zip(self.layers, layer_grads)):\n",
        "            self.delta_W[idx] = self.momentum * self.delta_W[idx] + self.learning_rate * W_g\n",
        "            self.delta_b[idx] = self.momentum * self.delta_b[idx] + self.learning_rate * b_g\n",
        "            W -= self.delta_W[idx]\n",
        "            b -= self.delta_b[idx]\n",
        "        return self.delta_W, self.delta_b\n",
        "\n",
        "    # These last two methods are not needed in the project, but they can be nice to have! The first one has a layers parameter so that you can use autograd on it\n",
        "    def autograd_compliant_predict(self, layers, inputs):\n",
        "        a = inputs\n",
        "        for (W, b), activation_func in zip(layers, self.activation_funcs):\n",
        "            z = W @ a + b\n",
        "            a = activation_func(z)\n",
        "        return a\n",
        "\n",
        "    def autograd_gradient(self, inputs, targets):\n",
        "        from autograd import grad\n",
        "        cost_grad = grad(self.cost, 0)\n",
        "        return cost_grad(self.layers, inputs, self.activation_funcs, targets)\n",
        "\n",
        "#Create an instance\n",
        "nn = NeuralNetwork(4, [8, 3], [ReLU, sigmoid], [ReLU_der, sigmoid_der], mse, mse_der)\n",
        "\n",
        "#Train the network\n",
        "nn.cost_value = train_network_momentum(inputs, nn.layers, nn.activation_funcs, targets)\n",
        "\n",
        "#Predict and compute accuracy\n",
        "predictions = nn.predict(inputs)\n",
        "print(\"Accuracy: \", accuracy(predictions, targets))\n",
        "\n",
        "#Plotting\n",
        "plt.plot(nn.cost_value, \"r-\")\n",
        "plt.title(\"Cost\")\n",
        "plt.xlabel(\"Epochs\")\n",
        "plt.ylabel(\"Cost\")\n",
        "plt.show()"
      ],
      "metadata": {
        "colab": {
          "base_uri": "https://localhost:8080/",
          "height": 489
        },
        "id": "geLDoDdS78Kz",
        "outputId": "8f127156-d56b-4f18-8f39-ea6bd86de28d"
      },
      "execution_count": 22,
      "outputs": [
        {
          "output_type": "stream",
          "name": "stdout",
          "text": [
            "Accuracy:  0.3333333333333333\n"
          ]
        },
        {
          "output_type": "display_data",
          "data": {
            "text/plain": [
              "<Figure size 640x480 with 1 Axes>"
            ],
            "image/png": "[encoded data removed]"
          },
          "metadata": {}
        }
      ]
    }
  ]
}