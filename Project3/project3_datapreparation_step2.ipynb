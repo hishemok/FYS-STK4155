{
 "cells": [
  {
   "cell_type": "markdown",
   "id": "eee40f47-3f13-425e-8054-d726dfcd47b2",
   "metadata": {},
   "source": [
    "# data preparation:  different image shapes\n",
    "Now we add padding so that every image has the shape 512 x 512, and it is reduced to an image with only one channel, as all the images naturally use grayscale.\n",
    "\n",
    "However, there are still images with watermarks on them etc, ... so this data set is still not too good."
   ]
  },
  {
   "cell_type": "code",
   "execution_count": 1,
   "id": "2adb4526-13c3-4ee2-94ee-0a517d850089",
   "metadata": {},
   "outputs": [],
   "source": [
    "from PIL import Image\n",
    "from numpy import asarray\n"
   ]
  },
  {
   "cell_type": "code",
   "execution_count": 2,
   "id": "e6ae726e-4306-4414-9449-d80a5d8e4033",
   "metadata": {},
   "outputs": [],
   "source": [
    "import os\n",
    "from PIL import Image, ImageOps\n",
    "\n",
    "def process_images(base_dir, final_shape=(512, 512)):\n",
    "    # Iterate through all directories and subdirectories\n",
    "    for root, dirs, files in os.walk(base_dir):\n",
    "        for file in files:\n",
    "            if file.endswith(('.jpg')): \n",
    "                img_path = os.path.join(root, file)\n",
    "                \n",
    "                # Open the image\n",
    "                with Image.open(img_path) as img:\n",
    "                    # Convert to grayscale\n",
    "                    img = img.convert('L')  # 'L' mode is for grayscale\n",
    "\n",
    "                    # Check if the image is quadratic and apply padding if necessary\n",
    "                    width, height = img.size\n",
    "                    if width != height:\n",
    "                        # Determine the size of the new square image\n",
    "                        new_size = max(width, height)\n",
    "                        # Create a new square image with a black background\n",
    "                        img = ImageOps.expand(img, (0, 0, new_size - width, new_size - height), fill='black')\n",
    "\n",
    "                    # Resize the image to final_shape, e.g., (512, 512)\n",
    "                    img = img.resize(final_shape, Image.LANCZOS)\n",
    "\n",
    "                    # Save the transformed image\n",
    "                    img.save(img_path) \n",
    "\n",
    "                    \n",
    "\n",
    "# Usage\n",
    "base_directory = 'archive/gray_smaller_size/'\n",
    "final_shape = (128,128)\n",
    "process_images(base_directory, final_shape)\n"
   ]
  },
  {
   "cell_type": "markdown",
   "id": "d8b4b2ff-3ce4-4fb1-b6b6-d18d39027c74",
   "metadata": {},
   "source": [
    "check that all went well"
   ]
  },
  {
   "cell_type": "code",
   "execution_count": 3,
   "id": "b3a6bd50-0be1-42cc-b6d4-f0476111c664",
   "metadata": {},
   "outputs": [
    {
     "name": "stdout",
     "output_type": "stream",
     "text": [
      "All images have the same shape: (128, 128)\n"
     ]
    }
   ],
   "source": [
    "import os\n",
    "import numpy as np\n",
    "from PIL import Image\n",
    "\n",
    "def check_image_shapes(base_dir):\n",
    "    expected_shape = None  # Variable to store the expected shape\n",
    "    all_images_correct_shape = True  # Flag to track if all images are correct shape\n",
    "\n",
    "    # Iterate through all directories and subdirectories\n",
    "    for root, dirs, files in os.walk(base_dir):\n",
    "        for file in files:\n",
    "            if file.endswith(('.jpg', '.jpeg', '.png')):  # Add other formats if needed\n",
    "                img_path = os.path.join(root, file)\n",
    "                \n",
    "                # Open the image\n",
    "                with Image.open(img_path) as img:\n",
    "                    # Convert the image to a NumPy array\n",
    "                    img_array = np.array(img)\n",
    "\n",
    "                    # Check if expected_shape is set\n",
    "                    if expected_shape is None:\n",
    "                        expected_shape = img_array.shape  # Set the expected shape from the first image\n",
    "                    else:\n",
    "                        # Compare the shape of the current image with the expected shape\n",
    "                        if img_array.shape != expected_shape:\n",
    "                            print(f\"Image {img_path} has shape {img_array.shape}, expected {expected_shape}.\")\n",
    "                            all_images_correct_shape = False\n",
    "\n",
    "    if all_images_correct_shape:\n",
    "        print(\"All images have the same shape:\", expected_shape)\n",
    "    else:\n",
    "        print(\"Some images do not have the expected shape.\")\n",
    "\n",
    "\n",
    "check_image_shapes(base_directory)\n"
   ]
  }
 ],
 "metadata": {
  "kernelspec": {
   "display_name": ".sklearn-env",
   "language": "python",
   "name": ".sklearn-env"
  },
  "language_info": {
   "codemirror_mode": {
    "name": "ipython",
    "version": 3
   },
   "file_extension": ".py",
   "mimetype": "text/x-python",
   "name": "python",
   "nbconvert_exporter": "python",
   "pygments_lexer": "ipython3",
   "version": "3.12.7"
  }
 },
 "nbformat": 4,
 "nbformat_minor": 5
}
